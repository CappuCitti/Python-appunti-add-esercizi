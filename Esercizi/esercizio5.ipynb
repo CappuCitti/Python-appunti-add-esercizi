{
  "nbformat": 4,
  "nbformat_minor": 0,
  "metadata": {
    "colab": {
      "name": "Esercizio5.ipynb",
      "provenance": [],
      "collapsed_sections": []
    },
    "kernelspec": {
      "name": "python3",
      "display_name": "Python 3"
    },
    "language_info": {
      "name": "python"
    }
  },
  "cells": [
    {
      "cell_type": "markdown",
      "metadata": {
        "id": "O5lTaySqpTjQ"
      },
      "source": [
        "1\\. scrivere una funzione chiamata max che dati due numeri restituisca il più grande. Scrivere poi un programma che, utilizzando la funzione creata, trovi il massimo tra tre numeri inseriti dall'utente. \n"
      ]
    },
    {
      "cell_type": "code",
      "metadata": {
        "id": "05WiEcvCpBWN"
      },
      "source": [
        "num1 = input('Inserisci il primo numero: ')\n",
        "num2 = input('Inserisci il secondo numero: ')\n",
        "\n",
        "def max(x, y, z = 0):\n",
        "\n",
        "  return x if float(x) > float(y) else (y if float(y) > float(z) else z)\n",
        "\n",
        "print(max(num1, num2))"
      ],
      "execution_count": null,
      "outputs": []
    },
    {
      "cell_type": "markdown",
      "metadata": {
        "id": "wPZQMsa3pSu8"
      },
      "source": [
        "2\\. scrivere una funzione chiamata sommaLista che data una lista di interi restituisca la somma di tutti gli elementi della lista. Scrivere poi un programma che, utilizzando la funzione create, trovi la somma degli elementi di una lista inserita dall'utente. "
      ]
    },
    {
      "cell_type": "code",
      "metadata": {
        "id": "wwqXmIp2p1_j"
      },
      "source": [
        "def somma_lista(l):\n",
        "  tot = 0\n",
        "  for n in l:\n",
        "    tot += float(n)\n",
        "\n",
        "  return tot\n",
        "\n",
        "print(somma_lista())\n"
      ],
      "execution_count": null,
      "outputs": []
    },
    {
      "cell_type": "markdown",
      "metadata": {
        "id": "TRwGU-tSr2G1"
      },
      "source": [
        "3\\. utilizzando le funzioni create precedentemente, scrivere un programma che permetta all'utente di inserire tre liste e di avere il valore massimo della somma degli elementi delle tre liste."
      ]
    },
    {
      "cell_type": "code",
      "metadata": {
        "id": "fkk0Kqvnr2UR"
      },
      "source": [
        "l1 = somma_lista(input('Inserisci la prima lista: ').split(','))\n",
        "l2 = somma_lista(input('Inserisci la seconda lista: ').split(','))\n",
        "l3 = somma_lista(input('Inserisci la ternza lista: ').split(','))\n",
        "\n",
        "print(max(l1, l2, l3))"
      ],
      "execution_count": null,
      "outputs": []
    },
    {
      "cell_type": "markdown",
      "metadata": {
        "id": "-pZ17pmZuwvy"
      },
      "source": [
        "4\\. scrivere una funzione chiamata controlla che dato un numero e due estremi restituisca True se il numero è compreso tra i due estremi, false altrimenti. Utilizzare poi la funzione per trovare il numero di elementi di una lista di numeri interi (inserita dall'utente) compresi tra due estremi (inseriti anch'essi dall'utente)"
      ]
    },
    {
      "cell_type": "code",
      "metadata": {
        "id": "EzjkEtcXoazX"
      },
      "source": [
        "def controlla(n, min, max):\n",
        "  return min < n < max\n",
        "\n",
        "l1 = input('Inserisci una lista: ').split(',')\n",
        "li = l1.sort()\n",
        "\n",
        "min_val = input('Inserisci il valore minimo: ')\n",
        "max_val = input('Inserisci il valore massimo: ')\n",
        "\n",
        "n_val = 0\n",
        "for el in l1:\n",
        "  if controlla(el, min_val, max_val):\n",
        "    n_val += 1\n",
        "\n",
        "print(n_val)"
      ],
      "execution_count": null,
      "outputs": []
    },
    {
      "cell_type": "markdown",
      "metadata": {
        "id": "BOhAmPXp44Ye"
      },
      "source": [
        "5\\. utilizzare la funzione controlla creata precedentemente per scrivere un programma che, data una lista di numeri interi inserita  dall'utente, carichi in un'altra lista i numeri compresi tra due estremi inseriti anch'essi dall'utente."
      ]
    },
    {
      "cell_type": "code",
      "metadata": {
        "id": "Pxp7W6M0sHMY"
      },
      "source": [
        "l1 = input('Inserisci una lista: ').split(',')\n",
        "li = l1.sort()\n",
        "\n",
        "min_val = input('Inserisci il valore minimo: ')\n",
        "max_val = input('Inserisci il valore massimo: ')\n",
        "\n",
        "res = []\n",
        "for el in l1:\n",
        "  if controlla(el, min_val, max_val):\n",
        "    res.append(el)\n",
        "\n",
        "print(res)"
      ],
      "execution_count": null,
      "outputs": []
    },
    {
      "cell_type": "markdown",
      "metadata": {
        "id": "6oMLlnBe5FIW"
      },
      "source": [
        "6\\. scrivere una funzione chiamata confrontaListe che date due liste restituisca True se le due liste sono uguali, False altrimenti. Utilizzare poi la funzione in un programma che dica se una lista di interi è palindroma, cioè se può essere letta indifferentemente da sinistra a destra e da destra a sinistra. Ad esempio la lista [1, 2, 3, 4, 3, 2, 1] è palindroma, la lista [1, 2, 3, 4, 3,1, 2] non lo è.\n"
      ]
    },
    {
      "cell_type": "code",
      "metadata": {
        "id": "Hrgjhshj5EyE"
      },
      "source": [
        "def confronta_liste(l1, l2):\n",
        "  return l1 == l2\n",
        "\n",
        "print(confronta_liste(l, l[::-1]))"
      ],
      "execution_count": null,
      "outputs": []
    },
    {
      "cell_type": "markdown",
      "metadata": {
        "id": "gPNbSIeO8CQx"
      },
      "source": [
        "7\\. scrivere una funzione chiamata celsiusToFahrenheit che data una temperatura in gradi Celsius restituisca il valore convertito in gradi Fahrenheit (per ulteriori info, google it). Scrivere poi un programma che data una lista di temperature in gradi Celsius,inserita dall'utente, converta tutte le temperature in gradi Fahrenheit.\n"
      ]
    },
    {
      "cell_type": "code",
      "metadata": {
        "id": "fICxicog8DXD"
      },
      "source": [
        "def celsius_to_Fahrenheit(t_cel):\n",
        "  return '{} °C → {} °F'.format(t_cel, (float(t_cel) * (9/5)) + 32)\n",
        "\n",
        "arr = input('Inserisci una lista da convertire: ').split(',')\n",
        "\n",
        "print('\\n'.join([celsius_to_Fahrenheit(n) for n in arr]))"
      ],
      "execution_count": null,
      "outputs": []
    },
    {
      "cell_type": "markdown",
      "metadata": {
        "id": "FC3NIz-M9xPz"
      },
      "source": [
        "8\\. scrivere una funzione chiamata IMC che calcoli l'Indice di Massa Corporea a partire dal peso (in kg) e dall'altezza (in m). Utilizzare poi la funzione per scrivere un programma che date tre liste, contenente la prima una serie di nomi, la seconda una serie di pesi e la terza una serie di altezze, produca una quarta lista contenente i valori di IMC corrispondenti. Visualizzare poi i risultati nel seguente modo: \"\\<nome> pesa \\<peso> kg, misura \\<altezza> m ed ha un IMC di \\<IMC>\" ( i valori nelle parentesi angolari vanno presi ovviamente dalle liste)"
      ]
    },
    {
      "cell_type": "code",
      "metadata": {
        "id": "PWqgTuCN9yuQ"
      },
      "source": [
        "def imc(m, h):\n",
        "  return round(m / h**2, 2)\n",
        "\n",
        "masses = [75, 49, 35, 54, 52, 79]\n",
        "heights = [1.83, 1.39, 1.14, 1.45, 1.34, 1.79]\n",
        "names = ['Gino', 'Pino', 'Marco', 'Sig. Rossi', 'Tommaso', 'Rino']\n",
        "\n",
        "def compose(m, h, n):\n",
        "  res = []\n",
        "  for i in range(len(m)):\n",
        "    res.append('{} pesa {}kg, misura {}m ed ha un IMC di {}'.format(n[i], m[i], h[i], imc(m[i], h[i])))\n",
        "\n",
        "  return res\n",
        "\n",
        "print('\\n'.join(compose(masses, heights, names)))"
      ],
      "execution_count": null,
      "outputs": []
    },
    {
      "cell_type": "markdown",
      "metadata": {
        "id": "187H0sL3jX5B"
      },
      "source": [
        "9\\. scrivere una lambda function per estrarre da una lista di numeri interi tutti i valori pari.\n"
      ]
    },
    {
      "cell_type": "code",
      "metadata": {
        "id": "_mljP7aVjYKs"
      },
      "source": [
        "l1 = [0, 2, 3, 4, 5, 6, 7, 8, 9]\n",
        "res = lambda l: [n for n in l if n%2 == 0]\n",
        "print(res(l1))"
      ],
      "execution_count": null,
      "outputs": []
    }
  ]
}
