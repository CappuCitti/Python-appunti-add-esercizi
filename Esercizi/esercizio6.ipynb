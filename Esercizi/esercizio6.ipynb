{
  "nbformat": 4,
  "nbformat_minor": 0,
  "metadata": {
    "colab": {
      "name": "Esercizio6.ipynb",
      "provenance": [],
      "collapsed_sections": []
    },
    "kernelspec": {
      "name": "python3",
      "display_name": "Python 3"
    },
    "language_info": {
      "name": "python"
    }
  },
  "cells": [
    {
      "cell_type": "markdown",
      "metadata": {
        "id": "mBDUL9PQP_4M"
      },
      "source": [
        "1\\. Scrivere una funzione chiamata sommaTutti che permetta di sommare un numero arbitrario di valori interi passati come parametri. Scrivere poi un programma che permetta all'utente di inserire un numero variabile di interi e visualizzi la somma."
      ]
    },
    {
      "cell_type": "code",
      "metadata": {
        "id": "AIDbqOQVP_kR"
      },
      "source": [
        "num1 = int(input('Inserisci un numero: '))\n",
        "num2 = int(input('Inserisci un numero: '))\n",
        "num3 = int(input('Inserisci un numero: '))\n",
        "\n",
        "def somma_tutti(*nums):\n",
        "  return sum(nums)\n",
        "\n",
        "print(somma_tutti(num1, num2, num3))"
      ],
      "execution_count": null,
      "outputs": []
    },
    {
      "cell_type": "markdown",
      "metadata": {
        "id": "J_e42lcARxQl"
      },
      "source": [
        "2\\. Scrivere una lambda function che calcoli la lunghezza della circonferenza di un cerchio dato il raggio. Utilizzarla poi in un programma che chieda all'utente il valore del raggio e visualizzi la lunghezza della circonferenza"
      ]
    },
    {
      "cell_type": "code",
      "metadata": {
        "id": "EAHxB_E1P4pZ"
      },
      "source": [
        "from math import pi\n",
        "\n",
        "print('La circonferenza è di: {}cm'.format(round((lambda r: 2 * r * pi)(int(input('Inserisci il raggio in cm: '))), 2)))"
      ],
      "execution_count": null,
      "outputs": []
    },
    {
      "cell_type": "markdown",
      "metadata": {
        "id": "4KXlpSaUTlcW"
      },
      "source": [
        "3\\. Scrivere una funzione che calcoli il quadrato di un numero. Scrivere poi una funzione che calcoli la radice quadrata della somma di due numeri. Scrivere poi una lambda function che date le lunghezze di due cateti di un triangolo calcoli l'ipotenusa utilizzando le funzioni definite precedentemente. Utilizzare quest'ultima funzione in un programma che permetta all'utente di inserire le lunghezze dei cateti e di avere in risposta la lunghezza dell'ipotenusa di un triangolo rettangolo"
      ]
    },
    {
      "cell_type": "code",
      "metadata": {
        "id": "WEMHq7MuToP2"
      },
      "source": [
        "from math import sqrt\n",
        "\n",
        "c1 = float(input('Inserisci la lunghezza in cm del primo cateto: '))\n",
        "c2 = float(input('Inserisci la lunghezza in cm del secondo cateto: '))\n",
        "\n",
        "def square(n):\n",
        "  return n**2\n",
        "\n",
        "def square_root(n1, n2):\n",
        "  return sqrt(sum([n1, n2]))\n",
        "\n",
        "print('L\\'ipotenusa del triangolo aventi come cateti dalla lunghezza di {}cm e {}cm è: {}cm'.format(c1, c2, round((lambda cat1, cat2: square_root(square(cat1), square(cat2)))(c1, c2), 2)))"
      ],
      "execution_count": null,
      "outputs": []
    },
    {
      "cell_type": "markdown",
      "metadata": {
        "id": "hcH0F-LLXrpk"
      },
      "source": [
        "4\\. Scrivere le funzioni quadrato, cubo e radiceQuadrata che calcolano il quadrato, il cubo e la radice quadrata di un numero intero. Scrivere poi un programma che, utilizzando un ciclo for, richiami le tre funzioni su un valore intero inserito dall'utente e visualizzi i tre risultati."
      ]
    },
    {
      "cell_type": "code",
      "metadata": {
        "id": "mEln6XV1YCI-"
      },
      "source": [
        "num1 = int(input('Inserisci un numero: '))\n",
        "\n",
        "def quadrato(n):\n",
        "  return n**2\n",
        "\n",
        "def cubo(n):\n",
        "  return n**3\n",
        "\n",
        "def radice_quadrata(n):\n",
        "  return sqrt(n)\n",
        "\n",
        "for i in range(1):\n",
        "  print('Quadrato del numero {}: {}'.format(num1, quadrato(num1)))\n",
        "  print('Cubo del numero {}: {}'.format(num1, cubo(num1)))\n",
        "  print('Radice quadrata del numero {}: {}'.format(num1, radice_quadrata(num1)))"
      ],
      "execution_count": null,
      "outputs": []
    },
    {
      "cell_type": "markdown",
      "metadata": {
        "id": "qudGoYOnZePK"
      },
      "source": [
        "5\\. Utilizzando una lambda function, scrivere un programma che data una lista di numeri interi inserita dall'utente carichi in altre due liste i quadrati e i cubi dei numeri presenti nella lista inserita. Al termine, visualizzare le due liste"
      ]
    },
    {
      "cell_type": "code",
      "metadata": {
        "id": "XjyQbDEVZfRk"
      },
      "source": [
        "l = input('Inserisci la prima lista: ').split(',')\n",
        "l = [int(n) for n in l]\n",
        "\n",
        "l2 = list(map(lambda n: n**2, l))\n",
        "l3 = list(map(lambda n: n**3, l))\n",
        "\n",
        "print('Lista dei numeri quadrati: {}\\nLista dei numeri cubici: {}'.format(l2, l3))"
      ],
      "execution_count": null,
      "outputs": []
    },
    {
      "cell_type": "markdown",
      "metadata": {
        "id": "mlWIW_Cta7ef"
      },
      "source": [
        "6\\. Utilizzando una lambda function, scrivere un programma che data una lista di numeri interi inserita dall'utente carichi in altre due liste i numeri pari e i numeri dispari presenti nella lista inserita. Al termine, visualizzare le due liste."
      ]
    },
    {
      "cell_type": "code",
      "metadata": {
        "id": "YmOmBDrIa9mG"
      },
      "source": [
        "l = input('Inserisci la prima lista: ').split(',')\n",
        "\n",
        "np = lambda nums: [n for n in nums if int(n)%2 == 0]\n",
        "nd = lambda nums: [n for n in nums if int(n)%2 == 1]\n",
        "\n",
        "print('Lista dei numeri pari: {}\\nLista dei numeri dispari: {}'.format(np(l), nd(l)))"
      ],
      "execution_count": null,
      "outputs": []
    },
    {
      "cell_type": "markdown",
      "metadata": {
        "id": "-SthwLZIog1b"
      },
      "source": [
        "7\\. Scrivere una funzione ricorsiva che calcoli il fattoriale di un numero. Utilizzare poi la funzione creata per scrivere un programma che permetta all'utente di inserire un numero intero e che visualizzi il fattoriale di quel numero."
      ]
    },
    {
      "cell_type": "code",
      "metadata": {
        "id": "wXnhOlMOoged"
      },
      "source": [
        "f = int(input('Inserisci il vaore da fattorizzare: '))\n",
        "\n",
        "print('Il fattoriale di {} è: {}'.format(f, (lambda n: 1 if n==0 else n*fact(n-1))(f)))"
      ],
      "execution_count": null,
      "outputs": []
    },
    {
      "cell_type": "markdown",
      "metadata": {
        "id": "4m5MOWjVpwpm"
      },
      "source": [
        "8\\. Svolgere l'esercizio 7, senza ricorsione"
      ]
    },
    {
      "cell_type": "code",
      "metadata": {
        "id": "CVFHbzK4p-OP"
      },
      "source": [
        "f = int(input('Inserisci il vaore da fattorizzare: '))\n",
        "\n",
        "def fact(n):\n",
        "  if n==0:\n",
        "    return 1\n",
        "  else: \n",
        "    return n*fact(n-1)\n",
        "\n",
        "print('Il fattoriale di {} è: {}'.format(f, fact(f)))"
      ],
      "execution_count": null,
      "outputs": []
    },
    {
      "cell_type": "markdown",
      "metadata": {
        "id": "VwEBCzFVrHoR"
      },
      "source": [
        "9\\. Scrivere poi una funzione ricorsiva che calcoli l'n-esimo numero della sequenza di Fibonacci. Utilizzare poi la funzione creata per scrivere un programma che permetta all'utente di inserire un numero intero e che visualizzi il numero della sequenza di Fibonacci corrispondente."
      ]
    },
    {
      "cell_type": "code",
      "metadata": {
        "id": "aQa8jjw9rH2j"
      },
      "source": [
        "f = int(input('Inserire un numero: '))\n",
        "\n",
        "def fib(n):\n",
        "  if n <= 1:\n",
        "    return 1\n",
        "  else:\n",
        "    return fib(n-1) + fib(n-2)\n",
        "\n",
        "print('{}° numero della sequenza di fibonacci: {}'.format(f, fib(f)))"
      ],
      "execution_count": null,
      "outputs": []
    }
  ]
}
