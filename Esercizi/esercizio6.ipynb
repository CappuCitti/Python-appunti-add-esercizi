{
  "nbformat": 4,
  "nbformat_minor": 0,
  "metadata": {
    "colab": {
      "name": "Esercizio6.ipynb",
      "provenance": [],
      "collapsed_sections": []
    },
    "kernelspec": {
      "name": "python3",
      "display_name": "Python 3"
    },
    "language_info": {
      "name": "python"
    }
  },
  "cells": [
    {
      "cell_type": "markdown",
      "metadata": {
        "id": "mBDUL9PQP_4M"
      },
      "source": [
        "1\\. Scrivere una funzione chiamata sommaTutti che permetta di sommare un numero arbitrario di valori interi passati come parametri. Scrivere poi un programma che permetta all'utente di inserire un numero variabile di interi e visualizzi la somma."
      ]
    },
    {
      "cell_type": "code",
      "metadata": {
        "colab": {
          "base_uri": "https://localhost:8080/"
        },
        "id": "AIDbqOQVP_kR",
        "outputId": "f52a9b9d-5fc6-4bb0-a17f-d430f5eb80c4"
      },
      "source": [
        "num1 = int(input('Inserisci un numero: '))\n",
        "num2 = int(input('Inserisci un numero: '))\n",
        "num3 = int(input('Inserisci un numero: '))\n",
        "\n",
        "def somma_tutti(*nums):\n",
        "  return sum(nums)\n",
        "\n",
        "print(somma_tutti(num1, num2, num3))"
      ],
      "execution_count": 1,
      "outputs": [
        {
          "output_type": "stream",
          "name": "stdout",
          "text": [
            "Inserisci un numero: 4\n",
            "Inserisci un numero: 4\n",
            "Inserisci un numero: 3\n",
            "Inserisci un numero: 5\n",
            "16\n"
          ]
        }
      ]
    },
    {
      "cell_type": "markdown",
      "metadata": {
        "id": "J_e42lcARxQl"
      },
      "source": [
        "2\\. Scrivere una lambda function che calcoli la lunghezza della circonferenza di un cerchio dato il raggio. Utilizzarla poi in un programma che chieda all'utente il valore del raggio e visualizzi la lunghezza della circonferenza"
      ]
    },
    {
      "cell_type": "code",
      "metadata": {
        "colab": {
          "base_uri": "https://localhost:8080/"
        },
        "id": "EAHxB_E1P4pZ",
        "outputId": "34e4b2da-4fb5-4330-fc66-31e178201dce"
      },
      "source": [
        "from math import pi\n",
        "\n",
        "print('La circonferenza è di: {}cm'.format(round((lambda r: 2 * r * pi)(int(input('Inserisci il raggio in cm: '))), 2)))"
      ],
      "execution_count": 9,
      "outputs": [
        {
          "output_type": "stream",
          "name": "stdout",
          "text": [
            "Inserisci il raggio in cm: 10\n",
            "La circonferenza è di: 62.83cm\n"
          ]
        }
      ]
    },
    {
      "cell_type": "markdown",
      "metadata": {
        "id": "4KXlpSaUTlcW"
      },
      "source": [
        "3\\. Scrivere una funzione che calcoli il quadrato di un numero. Scrivere poi una funzione che calcoli la radice quadrata della somma di due numeri. Scrivere poi una lambda function che date le lunghezze di due cateti di un triangolo calcoli l'ipotenusa utilizzando le funzioni definite precedentemente. Utilizzare quest'ultima funzione in un programma che permetta all'utente di inserire le lunghezze dei cateti e di avere in risposta la lunghezza dell'ipotenusa di un triangolo rettangolo"
      ]
    },
    {
      "cell_type": "code",
      "metadata": {
        "colab": {
          "base_uri": "https://localhost:8080/"
        },
        "id": "WEMHq7MuToP2",
        "outputId": "5a7ef5d4-c2a7-47ad-e8c3-e2701692c91c"
      },
      "source": [
        "from math import sqrt\n",
        "\n",
        "c1 = float(input('Inserisci la lunghezza in cm del primo cateto: '))\n",
        "c2 = float(input('Inserisci la lunghezza in cm del secondo cateto: '))\n",
        "\n",
        "def square(n):\n",
        "  return n**2\n",
        "\n",
        "def square_root(n1, n2):\n",
        "  return sqrt(sum([n1, n2]))\n",
        "\n",
        "print('L\\'ipotenusa del triangolo aventi come cateti dalla lunghezza di {}cm e {}cm è: {}cm'.format(c1, c2, round((lambda cat1, cat2: square_root(square(cat1), square(cat2)))(c1, c2), 2)))"
      ],
      "execution_count": 29,
      "outputs": [
        {
          "output_type": "stream",
          "name": "stdout",
          "text": [
            "Inserisci la lunghezza in cm del primo cateto: 5\n",
            "Inserisci la lunghezza in cm del secondo cateto: 2\n",
            "L'ipotenusa del triangolo aventi come cateti dalla lunghezza di 5cm e d 2cm è di: 5.39cm\n"
          ]
        }
      ]
    },
    {
      "cell_type": "markdown",
      "metadata": {
        "id": "hcH0F-LLXrpk"
      },
      "source": [
        "4\\. Scrivere le funzioni quadrato, cubo e radiceQuadrata che calcolano il quadrato, il cubo e la radice quadrata di un numero intero. Scrivere poi un programma che, utilizzando un ciclo for, richiami le tre funzioni su un valore intero inserito dall'utente e visualizzi i tre risultati."
      ]
    },
    {
      "cell_type": "code",
      "metadata": {
        "colab": {
          "base_uri": "https://localhost:8080/"
        },
        "id": "mEln6XV1YCI-",
        "outputId": "83a97f0d-55fe-46f0-f5c9-f489c4b7f9cd"
      },
      "source": [
        "num1 = int(input('Inserisci un numero: '))\n",
        "\n",
        "def quadrato(n):\n",
        "  return n**2\n",
        "\n",
        "def cubo(n):\n",
        "  return n**3\n",
        "\n",
        "def radice_quadrata(n):\n",
        "  return sqrt(n)\n",
        "\n",
        "for i in range(1):\n",
        "  print('Quadrato del numero {}: {}'.format(num1, quadrato(num1)))\n",
        "  print('Cubo del numero {}: {}'.format(num1, cubo(num1)))\n",
        "  print('Radice quadrata del numero {}: {}'.format(num1, radice_quadrata(num1)))"
      ],
      "execution_count": 33,
      "outputs": [
        {
          "output_type": "stream",
          "name": "stdout",
          "text": [
            "Inserisci un numero: 5\n",
            "Quadrato del numero 5: 25\n",
            "Cubo del numero 5: 125\n",
            "Radice quadrata del numero 5: 2.23606797749979\n"
          ]
        }
      ]
    },
    {
      "cell_type": "markdown",
      "metadata": {
        "id": "qudGoYOnZePK"
      },
      "source": [
        "5\\. Utilizzando una lambda function, scrivere un programma che data una lista di numeri interi inserita dall'utente carichi in altre due liste i quadrati e i cubi dei numeri presenti nella lista inserita. Al termine, visualizzare le due liste"
      ]
    },
    {
      "cell_type": "code",
      "metadata": {
        "colab": {
          "base_uri": "https://localhost:8080/"
        },
        "id": "XjyQbDEVZfRk",
        "outputId": "9c5331f7-78ab-4f4c-8a83-be350185cceb"
      },
      "source": [
        "l = input('Inserisci la prima lista: ').split(',')\n",
        "l = [int(n) for n in l]\n",
        "\n",
        "l2 = list(map(lambda n: n**2, l))\n",
        "l3 = list(map(lambda n: n**3, l))\n",
        "\n",
        "print('Lista dei numeri quadrati: {}\\nLista dei numeri cubici: {}'.format(l2, l3))"
      ],
      "execution_count": 36,
      "outputs": [
        {
          "output_type": "stream",
          "name": "stdout",
          "text": [
            "Inserisci la prima lista: 4,5,4,8,5,4,9\n",
            "Lista dei numero quadrati: [16, 25, 16, 64, 25, 16, 81]\n",
            "Lista dei numero cubici: [64, 125, 64, 512, 125, 64, 729]\n"
          ]
        }
      ]
    },
    {
      "cell_type": "markdown",
      "metadata": {
        "id": "mlWIW_Cta7ef"
      },
      "source": [
        "6\\. Utilizzando una lambda function, scrivere un programma che data una lista di numeri interi inserita dall'utente carichi in altre due liste i numeri pari e i numeri dispari presenti nella lista inserita. Al termine, visualizzare le due liste."
      ]
    },
    {
      "cell_type": "code",
      "metadata": {
        "colab": {
          "base_uri": "https://localhost:8080/"
        },
        "id": "YmOmBDrIa9mG",
        "outputId": "e779c4a5-7716-40c1-affb-33710174a6c6"
      },
      "source": [
        "l = input('Inserisci la prima lista: ').split(',')\n",
        "\n",
        "np = lambda nums: [n for n in nums if int(n)%2 == 0]\n",
        "nd = lambda nums: [n for n in nums if int(n)%2 == 1]\n",
        "\n",
        "print('Lista dei numeri pari: {}\\nLista dei numeri dispari: {}'.format(np(l), nd(l)))"
      ],
      "execution_count": 52,
      "outputs": [
        {
          "output_type": "stream",
          "name": "stdout",
          "text": [
            "Inserisci la prima lista: 4,5,4,8,5,4,9\n",
            "Lista dei numeri pari: ['4', '4', '8', '4']\n",
            "Lista dei numeri dispari: ['5', '5', '9']\n"
          ]
        }
      ]
    },
    {
      "cell_type": "markdown",
      "metadata": {
        "id": "-SthwLZIog1b"
      },
      "source": [
        "7\\. Scrivere una funzione ricorsiva che calcoli il fattoriale di un numero. Utilizzare poi la funzione creata per scrivere un programma che permetta all'utente di inserire un numero intero e che visualizzi il fattoriale di quel numero."
      ]
    },
    {
      "cell_type": "code",
      "metadata": {
        "colab": {
          "base_uri": "https://localhost:8080/"
        },
        "id": "wXnhOlMOoged",
        "outputId": "cbd5900e-8af1-4488-a70b-b797d254f834"
      },
      "source": [
        "f = int(input('Inserisci il vaore da fattorizzare: '))\n",
        "\n",
        "print('Il fattoriale di {} è: {}'.format(f, (lambda n: 1 if n==0 else n*fact(n-1))(f)))"
      ],
      "execution_count": 57,
      "outputs": [
        {
          "output_type": "stream",
          "name": "stdout",
          "text": [
            "Inserisci il vaore da fattorizzare: 3\n",
            "In fattoriale di 3 è: 6\n"
          ]
        }
      ]
    },
    {
      "cell_type": "markdown",
      "metadata": {
        "id": "4m5MOWjVpwpm"
      },
      "source": [
        "8\\. Svolgere l'esercizio 7, senza ricorsione"
      ]
    },
    {
      "cell_type": "code",
      "metadata": {
        "colab": {
          "base_uri": "https://localhost:8080/"
        },
        "id": "CVFHbzK4p-OP",
        "outputId": "3e45fc09-062b-4083-bfb4-a88804cd00df"
      },
      "source": [
        "f = int(input('Inserisci il vaore da fattorizzare: '))\n",
        "\n",
        "def fact(n):\n",
        "  if n==0:\n",
        "    return 1\n",
        "  else: \n",
        "    return n*fact(n-1)\n",
        "\n",
        "print('Il fattoriale di {} è: {}'.format(f, fact(f)))"
      ],
      "execution_count": 58,
      "outputs": [
        {
          "output_type": "stream",
          "name": "stdout",
          "text": [
            "Inserisci il vaore da fattorizzare: 3\n",
            "In fattoriale di 3 è: 6\n"
          ]
        }
      ]
    },
    {
      "cell_type": "markdown",
      "metadata": {
        "id": "VwEBCzFVrHoR"
      },
      "source": [
        "9\\. Scrivere poi una funzione ricorsiva che calcoli l'n-esimo numero della sequenza di Fibonacci. Utilizzare poi la funzione creata per scrivere un programma che permetta all'utente di inserire un numero intero e che visualizzi il numero della sequenza di Fibonacci corrispondente."
      ]
    },
    {
      "cell_type": "code",
      "metadata": {
        "colab": {
          "base_uri": "https://localhost:8080/"
        },
        "id": "aQa8jjw9rH2j",
        "outputId": "7cf480e5-c315-4a56-d937-342e50ef7169"
      },
      "source": [
        "f = int(input('Inserire un numero: '))\n",
        "\n",
        "def fib(n):\n",
        "  if n <= 1:\n",
        "    return 1\n",
        "  else:\n",
        "    return fib(n-1) + fib(n-2)\n",
        "\n",
        "print('{}° numero della sequenza di fibonacci: {}'.format(f, fib(f)))"
      ],
      "execution_count": 61,
      "outputs": [
        {
          "output_type": "stream",
          "name": "stdout",
          "text": [
            "Inserire un numero: 10\n",
            "10° numero della sequenza di fibonacci: 89\n"
          ]
        }
      ]
    }
  ]
}