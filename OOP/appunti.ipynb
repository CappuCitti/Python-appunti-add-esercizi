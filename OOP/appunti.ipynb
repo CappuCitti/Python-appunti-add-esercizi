{
 "cells": [
  {
   "attachments": {},
   "cell_type": "markdown",
   "metadata": {},
   "source": [
    "# Programmazione ad oggetti\n",
    "La programmazione ad oggetti prevede di raggruppare in alcune parti circoscritte del codice sorgente, chiamate classi, la dichiarazione delle strutture dati e delle procedure che operano su di esse. Le classi, quindi, costituiscono dei modelli astratti, che a tempo di esecuzione vengono invocate per istanziare o creare oggetti software relativi alla classe invocata. Questi ultimi sono dotati di attributi (dati) e metodi (procedure) secondo quanto definito/dichiarato dalle rispettive classi."
   ]
  },
  {
   "attachments": {},
   "cell_type": "markdown",
   "metadata": {},
   "source": [
    "### Incapsulamento\n",
    "L'incapsulamento è la proprietà per cui i dati che definiscono lo stato interno di un oggetto e i metodi che ne definiscono la logica sono accessibili ai metodi dell'oggetto stesso, mentre non sono visibili ai client. Per alterare lo stato interno dell'oggetto, è necessario invocarne i metodi pubblici, ed è questo lo scopo principale dell'incapsulamento."
   ]
  },
  {
   "cell_type": "code",
   "execution_count": 7,
   "metadata": {},
   "outputs": [],
   "source": [
    "# Creare classe\n",
    "class Account:\n",
    "    def __init__(self, name, age) -> None:\n",
    "        self._name = name\n",
    "        self._age = age\n",
    "\n",
    "    def get_age(self):\n",
    "        return self._age"
   ]
  },
  {
   "cell_type": "code",
   "execution_count": 12,
   "metadata": {},
   "outputs": [
    {
     "name": "stdout",
     "output_type": "stream",
     "text": [
      "27\n"
     ]
    }
   ],
   "source": [
    "account = Account('Ugo', 27)\n",
    "\n",
    "print(account.get_age()) # Restituisce l'eta'"
   ]
  },
  {
   "attachments": {},
   "cell_type": "markdown",
   "metadata": {},
   "source": [
    "### Ereditarieta'\n",
    "Il meccanismo dell'ereditarietà è utilizzato in fase di strutturazione/definizione/pianificazione del software o in successive estensioni e permette di derivare nuove classi a partire da quelle già definite realizzando una gerarchia di classi. Una classe derivata attraverso l'ereditarietà (sottoclasse o classe figlia) mantiene i metodi e gli attributi delle classi da cui deriva (classi base, superclassi o classi madre); inoltre, può definire i propri metodi o attributi, e ridefinire il codice di alcuni dei metodi ereditati tramite un meccanismo chiamato overriding.\n",
    "\n",
    "L'ereditarietà può essere usata come meccanismo per ottenere l'estensibilità e il riuso del codice, e risulta particolarmente vantaggiosa quando viene usata per definire sottotipi, sfruttando le relazioni is-a esistenti nella realtà di cui la struttura delle classi è una modellizzazione. Oltre all'evidente riuso del codice della superclasse, l'ereditarietà permette la definizione di codice generico attraverso il meccanismo del polimorfismo."
   ]
  },
  {
   "attachments": {},
   "cell_type": "markdown",
   "metadata": {},
   "source": [
    "### Polimorfismo\n",
    "Il polimorfismo e' un concetto che indica la generalizzazione del codice e creare classi figlio e sovrascrivere le classi padre."
   ]
  },
  {
   "attachments": {},
   "cell_type": "markdown",
   "metadata": {},
   "source": [
    "### *Duck typing*\n",
    "Esprime il concetto dove il tipo o la classe di un oggetto è meno importante dei metodi che definisce."
   ]
  },
  {
   "attachments": {},
   "cell_type": "markdown",
   "metadata": {},
   "source": [
    "### Cosa e' il decoratore *@dataclass*\n",
    "Questo decoratore semplifica la creazione di una classe come nell'esempio indicato.\n",
    "\n",
    "Documentazione: [qui](https://docs.python.org/3/library/dataclasses.html)"
   ]
  },
  {
   "cell_type": "code",
   "execution_count": 6,
   "metadata": {},
   "outputs": [],
   "source": [
    "from dataclasses import dataclass\n",
    "\n",
    "@dataclass\n",
    "class Person:\n",
    "    # Equivalente del creare il costruttore\n",
    "    _age: int = 0\n",
    "    _name: str = \"\"\n",
    "    _surname: str = \"\"\n",
    "\n",
    "    def get_name(self):\n",
    "        return self._name"
   ]
  },
  {
   "attachments": {},
   "cell_type": "markdown",
   "metadata": {},
   "source": [
    "### *@property*\n",
    "*@property* è un decoratore integrato per la funzione property() in Python. Viene utilizzato per fornire funzionalità \"speciali\" a determinati metodi per farli agire come getter, setter o deleter quando definiamo proprietà in una classe."
   ]
  },
  {
   "cell_type": "code",
   "execution_count": 3,
   "metadata": {},
   "outputs": [],
   "source": [
    "class House:\n",
    "\tdef __init__(self, price):\n",
    "\t\tself._price = price\n",
    "\n",
    "\t@property\n",
    "\tdef price(self):\n",
    "\t\treturn self._price\n",
    "\t\n",
    "\t@price.setter\n",
    "\tdef price(self, new_price):\n",
    "\t\tif new_price > 0 and isinstance(new_price, float):\n",
    "\t\t\tself._price = new_price\n",
    "\t\telse:\n",
    "\t\t\tprint(\"Please enter a valid price\")\n",
    "\n",
    "\t@price.deleter\n",
    "\tdef price(self):\n",
    "\t\tdel self._price"
   ]
  },
  {
   "cell_type": "code",
   "execution_count": 4,
   "metadata": {},
   "outputs": [
    {
     "name": "stdout",
     "output_type": "stream",
     "text": [
      "Please enter a valid price\n"
     ]
    }
   ],
   "source": [
    "house = House(50000.0)\n",
    "house.price = -50"
   ]
  },
  {
   "cell_type": "code",
   "execution_count": 5,
   "metadata": {},
   "outputs": [
    {
     "data": {
      "text/plain": [
       "50000.0"
      ]
     },
     "execution_count": 5,
     "metadata": {},
     "output_type": "execute_result"
    }
   ],
   "source": [
    "house.price"
   ]
  },
  {
   "attachments": {},
   "cell_type": "markdown",
   "metadata": {},
   "source": [
    "### `__str__` e `__repr__`\n",
    "Il metodo`__str__` restituisce il valore in stringa.\n",
    "Il metodo `__repr__` restituisce una rappresentazione di stringa più ricca di informazioni, o ufficiale, di un oggetto."
   ]
  },
  {
   "cell_type": "code",
   "execution_count": 1,
   "metadata": {},
   "outputs": [
    {
     "name": "stdout",
     "output_type": "stream",
     "text": [
      "__str__() string:  2023-03-03 10:57:06.997463\n",
      "str() string:  2023-03-03 10:57:06.997463\n",
      "__repr__() string:  datetime.datetime(2023, 3, 3, 10, 57, 6, 997463)\n",
      "repr() string:  datetime.datetime(2023, 3, 3, 10, 57, 6, 997463)\n"
     ]
    }
   ],
   "source": [
    "import datetime\n",
    "\n",
    "mydate = datetime.datetime.now()\n",
    "\n",
    "print(\"__str__() string: \", mydate.__str__())\n",
    "print(\"str() string: \", str(mydate))\n",
    "\n",
    "print(\"__repr__() string: \", mydate.__repr__())\n",
    "print(\"repr() string: \", repr(mydate))"
   ]
  },
  {
   "attachments": {},
   "cell_type": "markdown",
   "metadata": {},
   "source": [
    "### *doctest*\n",
    "*doctest* è un modulo incluso nella libreria standard del linguaggio di programmazione Python che consente la facile generazione di test basati sull'output della shell standard dell'interprete Python, tagliati e incollati in docstring."
   ]
  },
  {
   "cell_type": "code",
   "execution_count": 15,
   "metadata": {},
   "outputs": [
    {
     "data": {
      "text/plain": [
       "TestResults(failed=0, attempted=2)"
      ]
     },
     "execution_count": 15,
     "metadata": {},
     "output_type": "execute_result"
    }
   ],
   "source": [
    "import doctest\n",
    "\n",
    "\n",
    "def add(a, b):\n",
    "    \"\"\"\n",
    "    Given two integers, return the sum.\n",
    "\n",
    "    :param a: int\n",
    "    :param b: int\n",
    "    :return: int\n",
    "\n",
    "    >>> add(2, 3)\n",
    "    5\n",
    "    >>> add(0, 0)\n",
    "    0\n",
    "    \"\"\"\n",
    "    return a + b\n",
    "\n",
    "doctest.testmod()"
   ]
  },
  {
   "attachments": {},
   "cell_type": "markdown",
   "metadata": {},
   "source": [
    "- Ereditarieta'\n",
    "- Polimorfismo\n",
    "- *Duck typing*\n",
    "- Classi di dati\n",
    "- Controllo degli accessi sugli attributi\n",
    "- @proprieta, *@dataclass*, (decoratore?)\n",
    "- *__repr__*\n",
    "- *__str__* e le altre\n",
    "- Sovrascrittura degli operatori\n",
    "- Tuple denominate\n",
    "- *doctest* e *doctstring*"
   ]
  }
 ],
 "metadata": {
  "kernelspec": {
   "display_name": "Python 3",
   "language": "python",
   "name": "python3"
  },
  "language_info": {
   "codemirror_mode": {
    "name": "ipython",
    "version": 3
   },
   "file_extension": ".py",
   "mimetype": "text/x-python",
   "name": "python",
   "nbconvert_exporter": "python",
   "pygments_lexer": "ipython3",
   "version": "3.11.0"
  },
  "orig_nbformat": 4
 },
 "nbformat": 4,
 "nbformat_minor": 2
}
