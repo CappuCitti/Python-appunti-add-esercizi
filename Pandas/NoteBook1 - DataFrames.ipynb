{
 "cells": [
  {
   "cell_type": "markdown",
   "source": [
    "## I ``DataFrames``\r\n",
    "Il **DataFrame** è una struttura dati bidimensionale composta da colonne e righe."
   ],
   "metadata": {}
  },
  {
   "cell_type": "code",
   "execution_count": 1,
   "source": [
    "import pandas as pd"
   ],
   "outputs": [],
   "metadata": {}
  },
  {
   "cell_type": "markdown",
   "source": [
    "la variabile `df` assumera' come valore il dataframe"
   ],
   "metadata": {}
  },
  {
   "cell_type": "code",
   "execution_count": null,
   "source": [
    "df = pd.read_csv('./data/pokemon_list.csv')\r\n",
    "\r\n",
    "df"
   ],
   "outputs": [],
   "metadata": {}
  },
  {
   "cell_type": "markdown",
   "source": [
    "`df.head()` restituisce di default i primi 5 valori del dataframe"
   ],
   "metadata": {}
  },
  {
   "cell_type": "code",
   "execution_count": null,
   "source": [
    "df.head()"
   ],
   "outputs": [],
   "metadata": {
    "scrolled": true
   }
  },
  {
   "cell_type": "markdown",
   "source": [
    "Il numero di righe da far visualizzare puo' essere passato alla funzione come parametro "
   ],
   "metadata": {}
  },
  {
   "cell_type": "code",
   "execution_count": null,
   "source": [
    "df.head(2)"
   ],
   "outputs": [],
   "metadata": {}
  },
  {
   "cell_type": "markdown",
   "source": [
    "`df.tail()` ha lo stesso funzionamento di `df.head()`, tuttavia restituisce i valori partendo dal fondo"
   ],
   "metadata": {}
  },
  {
   "cell_type": "code",
   "execution_count": null,
   "source": [
    "df.tail()"
   ],
   "outputs": [],
   "metadata": {}
  },
  {
   "cell_type": "code",
   "execution_count": null,
   "source": [
    "df.tail(2)"
   ],
   "outputs": [],
   "metadata": {}
  },
  {
   "cell_type": "markdown",
   "source": [
    "`df.columns` permette di vedere i nomi delle colonne"
   ],
   "metadata": {}
  },
  {
   "cell_type": "code",
   "execution_count": null,
   "source": [
    "df.columns"
   ],
   "outputs": [],
   "metadata": {
    "scrolled": true
   }
  },
  {
   "cell_type": "markdown",
   "source": [
    "`df['column_name']` permette di visualizzare solo i valori della colonna selezionata"
   ],
   "metadata": {}
  },
  {
   "cell_type": "code",
   "execution_count": null,
   "source": [
    "df['Name']"
   ],
   "outputs": [],
   "metadata": {}
  },
  {
   "cell_type": "markdown",
   "source": [
    "E' possibile visualizzare piu' colonne passandogli una lista come parametro"
   ],
   "metadata": {}
  },
  {
   "cell_type": "code",
   "execution_count": null,
   "source": [
    "df[['Name', 'Type 1', 'Type 2']]"
   ],
   "outputs": [],
   "metadata": {}
  },
  {
   "cell_type": "markdown",
   "source": [
    "E' anche possibile combinare alcune delle cose sopracitate"
   ],
   "metadata": {}
  },
  {
   "cell_type": "code",
   "execution_count": null,
   "source": [
    "df[['Name', 'Type 1', 'Type 2']].head(10)"
   ],
   "outputs": [],
   "metadata": {
    "scrolled": true
   }
  },
  {
   "cell_type": "markdown",
   "source": [
    "`df.iloc[index]` serve per selezionare una singola riga, specificandone il suo indice"
   ],
   "metadata": {}
  },
  {
   "cell_type": "code",
   "execution_count": null,
   "source": [
    "df.iloc[1]"
   ],
   "outputs": [],
   "metadata": {}
  },
  {
   "cell_type": "markdown",
   "source": [
    "Molto simile, `df.loc[condition]` serve a ottenere non una singola riga, ma un inseme di righe che rispettano una certa condizione"
   ],
   "metadata": {}
  },
  {
   "cell_type": "code",
   "execution_count": null,
   "source": [
    "df.loc[df['Type 1'] == 'Fire']"
   ],
   "outputs": [],
   "metadata": {}
  },
  {
   "cell_type": "markdown",
   "source": [
    "All'interno di `df.loc[condition]` possono essere inserite piu' condizioni raggruppandole tra parentesi tonde"
   ],
   "metadata": {}
  },
  {
   "cell_type": "code",
   "execution_count": null,
   "source": [
    "df.loc[(df['Type 1'] == 'Fire') & (df['Type 2'] == 'Flying')]"
   ],
   "outputs": [],
   "metadata": {
    "scrolled": true
   }
  },
  {
   "cell_type": "markdown",
   "source": [
    "E' possibile utilizzare un ciclo for per scorrere le righe il dataframe attraverso la funzione `df.iterrows()`"
   ],
   "metadata": {}
  },
  {
   "cell_type": "code",
   "execution_count": null,
   "source": [
    "for index, row in df.iterrows():\r\n",
    "    print(\"Row: \" + str(index) + \"\\n\" + str(row))"
   ],
   "outputs": [],
   "metadata": {}
  },
  {
   "cell_type": "markdown",
   "source": [
    "`df.sort_values('column_name')` riordina il dataframe in base alla colonna selezionata"
   ],
   "metadata": {}
  },
  {
   "cell_type": "code",
   "execution_count": null,
   "source": [
    "df.sort_values('Name')"
   ],
   "outputs": [],
   "metadata": {}
  },
  {
   "cell_type": "markdown",
   "source": [
    "Puo' essere anche selezionato di invertire l'\n",
    "ordine"
   ],
   "metadata": {}
  },
  {
   "cell_type": "code",
   "execution_count": null,
   "source": [
    "df.sort_values('Name', ascending=False)"
   ],
   "outputs": [],
   "metadata": {}
  },
  {
   "cell_type": "markdown",
   "source": [
    "In piu' e' possibile specificare piu' di una colonna in modo che se due campi risultassero uguali il programma li riordinerebbe in base al resto delle colonne selezionate andando in ordine"
   ],
   "metadata": {}
  },
  {
   "cell_type": "code",
   "execution_count": null,
   "source": [
    "df.sort_values(['Generation', 'Name'])"
   ],
   "outputs": [],
   "metadata": {}
  },
  {
   "cell_type": "markdown",
   "source": [
    "Il parametro `ascending` puo' anch'esso essere una lista in modo da riordinare al contrario solo alcune colonne (1 = true, 0 = false)"
   ],
   "metadata": {}
  },
  {
   "cell_type": "code",
   "execution_count": null,
   "source": [
    "df.sort_values(['Generation', 'Name'], ascending=[0,1])"
   ],
   "outputs": [],
   "metadata": {}
  },
  {
   "cell_type": "markdown",
   "source": [
    "Utizzando `df['column_name'] = ...` e' possibile creare una nuova colonna all'interno del dataframe"
   ],
   "metadata": {}
  },
  {
   "cell_type": "code",
   "execution_count": null,
   "source": [
    "df['Type'] = df['Type 1'] + \" - \" + df['Type 2']\r\n",
    "df"
   ],
   "outputs": [],
   "metadata": {}
  },
  {
   "cell_type": "markdown",
   "source": [
    "E' anche possibile rimuovere le delle colonne utilizzando la funzione `df.drop(columns=['column_name'])`"
   ],
   "metadata": {}
  },
  {
   "cell_type": "code",
   "execution_count": null,
   "source": [
    "df = df.drop(columns=['Type'])\r\n",
    "df"
   ],
   "outputs": [],
   "metadata": {
    "scrolled": true
   }
  },
  {
   "cell_type": "markdown",
   "source": [
    "Nello stesso modo in cui e' possibile leggere file, e' possibile anche salvarli in formato csv o excel"
   ],
   "metadata": {}
  },
  {
   "cell_type": "code",
   "execution_count": null,
   "source": [
    "df.to_csv('./data/edited_pokemon.csv')\r\n",
    "df.to_excel('./data/edited_pokemon.xlsx')"
   ],
   "outputs": [],
   "metadata": {}
  }
 ],
 "metadata": {
  "kernelspec": {
   "name": "python3",
   "display_name": "Python 3.8.8 64-bit ('base': conda)"
  },
  "language_info": {
   "codemirror_mode": {
    "name": "ipython",
    "version": 3
   },
   "file_extension": ".py",
   "mimetype": "text/x-python",
   "name": "python",
   "nbconvert_exporter": "python",
   "pygments_lexer": "ipython3",
   "version": "3.8.8"
  },
  "interpreter": {
   "hash": "9b2d9740616a8399ca404dca2f042dd6ae09cf83a307dbe456eb4f69c6b37002"
  }
 },
 "nbformat": 4,
 "nbformat_minor": 5
}
