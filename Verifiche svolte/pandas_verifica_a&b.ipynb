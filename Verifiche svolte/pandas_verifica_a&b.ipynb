{
  "nbformat": 4,
  "nbformat_minor": 0,
  "metadata": {
    "colab": {
      "name": "pandas_verifica_a&b.ipynb",
      "provenance": [],
      "collapsed_sections": []
    },
    "kernelspec": {
      "name": "python3",
      "display_name": "Python 3"
    },
    "language_info": {
      "name": "python"
    }
  },
  "cells": [
    {
      "cell_type": "code",
      "metadata": {
        "id": "jxhmdtdIqrwt"
      },
      "source": [
        "import pandas as pd\n",
        "import matplotlib.pyplot as plt\n",
        "import numpy as np\n",
        "\n",
        "# pd.set_option(\"display.max_rows\", None, \"display.max_columns\", None)"
      ],
      "execution_count": null,
      "outputs": []
    },
    {
      "cell_type": "markdown",
      "metadata": {
        "id": "4v4EubBaqc0E"
      },
      "source": [
        "# Verifica **A**"
      ]
    },
    {
      "cell_type": "code",
      "metadata": {
        "id": "vKiwU7IJq1Kt"
      },
      "source": [
        "df = pd.read_excel('https://raw.githubusercontent.com/wtitze/3E/main/Medals.xlsx')\n",
        "df"
      ],
      "execution_count": null,
      "outputs": []
    },
    {
      "cell_type": "markdown",
      "metadata": {
        "id": "scWX9pUgqcuh"
      },
      "source": [
        "1\\. Visualizzare il numero di medaglie d’oro vinte dall’Italia\n"
      ]
    },
    {
      "cell_type": "code",
      "metadata": {
        "id": "TA2gAI-qqWH6"
      },
      "source": [
        "df[df['Team/NOC'] == 'Italy']['Gold']"
      ],
      "execution_count": null,
      "outputs": []
    },
    {
      "cell_type": "markdown",
      "metadata": {
        "id": "ZfCNRZCArp7N"
      },
      "source": [
        "2\\. Visualizzare il numero di medaglie d’oro delle nazioni che cominciano con la lettera F\n"
      ]
    },
    {
      "cell_type": "code",
      "metadata": {
        "id": "8vsj34Kfrp1K"
      },
      "source": [
        "df[df['Team/NOC'].str.startswith('F') == True]['Gold']"
      ],
      "execution_count": null,
      "outputs": []
    },
    {
      "cell_type": "markdown",
      "metadata": {
        "id": "ADxqx8TusU9V"
      },
      "source": [
        "3\\. Aggiungere una colonna contenente il numero totale di medaglie di ogni nazione. Chiamare la colonna “Total”\n"
      ]
    },
    {
      "cell_type": "code",
      "metadata": {
        "id": "te-own6hsU2p"
      },
      "source": [
        "df['Total'] = df['Gold'] + df['Silver'] + df['Bronze']"
      ],
      "execution_count": null,
      "outputs": []
    },
    {
      "cell_type": "markdown",
      "metadata": {
        "id": "LHIYqxiksrRp"
      },
      "source": [
        "4\\. Visualizzare la nazione che ha vinto più medaglie (in totale)\n"
      ]
    },
    {
      "cell_type": "code",
      "metadata": {
        "id": "9CLW5I-Fsq6w"
      },
      "source": [
        "df.sort_values('Total', ascending=False)['Team/NOC'][0]"
      ],
      "execution_count": null,
      "outputs": []
    },
    {
      "cell_type": "markdown",
      "metadata": {
        "id": "e_wadpvxs_P5"
      },
      "source": [
        "5\\. Visualizzare il numero totale di medaglie vinte complessivamente da tutte le nazioni\n"
      ]
    },
    {
      "cell_type": "code",
      "metadata": {
        "id": "hntm6VTss_Ir"
      },
      "source": [
        "df['Total'].sum()"
      ],
      "execution_count": null,
      "outputs": []
    },
    {
      "cell_type": "markdown",
      "metadata": {
        "id": "aEgkBs1bv5CD"
      },
      "source": [
        "6\\. Aggiungere una colonna contenente la percentuale di medaglie vinte da ogni nazione. Chiamare la colonna “Percentuale”\n"
      ]
    },
    {
      "cell_type": "code",
      "metadata": {
        "id": "L5zBiLRTv493"
      },
      "source": [
        "df['Percentuale'] = round(100 * df['Total']/df['Total'].sum(), 2)"
      ],
      "execution_count": null,
      "outputs": []
    },
    {
      "cell_type": "markdown",
      "metadata": {
        "id": "z4CeibKNkwQR"
      },
      "source": [
        "<hr>\n",
        "\n",
        "# Altro"
      ]
    },
    {
      "cell_type": "markdown",
      "metadata": {
        "id": "htcJI4Q6kyXD"
      },
      "source": [
        "* Realizzare un grafico che rappresenti la suddivisione delle medaglie per paese"
      ]
    },
    {
      "cell_type": "code",
      "metadata": {
        "id": "l1Eh4MF7kv9E"
      },
      "source": [
        "data = df.head(10)\n",
        "\n",
        "m_gold = data['Gold']\n",
        "m_silver = data['Silver']\n",
        "m_bronze = data['Bronze']\n",
        "\n",
        "labels = data['Team/NOC']\n",
        "\n",
        "# Plot\n",
        "fig = plt.figure(figsize=(10,4))\n",
        "ax = plt.axes()\n",
        "\n",
        "ax.bar(labels, data['Bronze'], color='#b08d57', label='Bronze medals')\n",
        "ax.bar(labels, data['Silver'], color='#bec2cb', bottom=data['Bronze'], label='Silver medals')\n",
        "ax.bar(labels, data['Gold'], color='#d4af37', bottom=np.add(data['Bronze'], data['Silver']), label='Gold medals')\n",
        "\n",
        "fig.autofmt_xdate(rotation='vertical')\n",
        "fig.suptitle('Suddivisione delle medaglie per nazione')\n",
        "fig.legend(loc=0)"
      ],
      "execution_count": null,
      "outputs": []
    },
    {
      "cell_type": "code",
      "metadata": {
        "id": "Yuwa9qpNm6Du"
      },
      "source": [
        "data = df.head(10)\n",
        "\n",
        "m_gold = data['Gold']\n",
        "m_silver = data['Silver']\n",
        "m_bronze = data['Bronze']\n",
        "\n",
        "labels = data['Team/NOC']\n",
        "\n",
        "x = np.arange(len(labels))\n",
        "width = 0.20\n",
        "\n",
        "# Plot\n",
        "fig = plt.figure(figsize=(15,6))\n",
        "ax = plt.axes()\n",
        "\n",
        "ax.bar(x + width, data['Bronze'], width=width, color='#b08d57', label='Bronze medals')\n",
        "ax.bar(x, data['Silver'], color='#bec2cb', width=width, label='Silver medals')\n",
        "ax.bar(x - width, data['Gold'], color='#d4af37', width=width, label='Gold medals')\n",
        "\n",
        "fig.autofmt_xdate(rotation=45)\n",
        "fig.suptitle('Suddivisione delle medaglie per nazione')\n",
        "fig.legend(loc=0)\n",
        "\n",
        "ax.set_xticks(x)\n",
        "ax.set_xticklabels(labels)\n",
        "\n",
        "x"
      ],
      "execution_count": null,
      "outputs": []
    },
    {
      "cell_type": "markdown",
      "metadata": {
        "id": "x4EPMqRowogQ"
      },
      "source": [
        "<hr>"
      ]
    },
    {
      "cell_type": "code",
      "metadata": {
        "id": "u158SFomwtfA"
      },
      "source": [
        "df = pd.read_excel('https://raw.githubusercontent.com/wtitze/3E/main/Teams.xlsx')\n",
        "df"
      ],
      "execution_count": null,
      "outputs": []
    },
    {
      "cell_type": "markdown",
      "metadata": {
        "id": "goim4IwIw0c7"
      },
      "source": [
        "1\\. Visualizzare il numero di squadre per ogni sesso"
      ]
    },
    {
      "cell_type": "code",
      "metadata": {
        "id": "XtTcrA5cw0TW"
      },
      "source": [
        "df['Event'].value_counts()"
      ],
      "execution_count": null,
      "outputs": []
    },
    {
      "cell_type": "markdown",
      "metadata": {
        "id": "5xqknC_kzf27"
      },
      "source": [
        "2\\. Visualizzare il numero di discipline a cui ha partecipato ogni nazione. Ordinare in ordine decrescente a partire dalla nazione che ha presentato più squadre. Contare insieme squadre maschili e femminili\n"
      ]
    },
    {
      "cell_type": "code",
      "metadata": {
        "id": "_FRTLgSXzfzC"
      },
      "source": [
        "data = df.groupby('NOC', as_index=False).agg({'Event': 'count'}).sort_values('Event', ascending=False)\n",
        "\n",
        "# Plot\n",
        "fig = plt.figure(figsize=(20,8))\n",
        "ax = plt.axes()\n",
        "\n",
        "ax.bar(data['NOC'], data['Event'])\n",
        "fig.autofmt_xdate(rotation='vertical')\n",
        "fig.suptitle('Squadre per ogni nazione')\n",
        "\n",
        "data"
      ],
      "execution_count": null,
      "outputs": []
    },
    {
      "cell_type": "markdown",
      "metadata": {
        "id": "w-5oVnfYzn5z"
      },
      "source": [
        "3\\. Visualizzare il numero di nazioni che hanno partecipato alle varie discipline. Ordinare in ordine decrescente in base alla disciplina che ha avuto più squadre partecipanti\n"
      ]
    },
    {
      "cell_type": "code",
      "metadata": {
        "id": "5PCEjPEqzn0d"
      },
      "source": [
        "data = df.groupby('Discipline', as_index=False).agg({'NOC': 'count'}).sort_values('NOC', ascending=False)\n",
        "\n",
        "# Plot\n",
        "fig = plt.figure(figsize=(10,4))\n",
        "ax = plt.axes()\n",
        "\n",
        "ax.bar(data['Discipline'], data['NOC'])\n",
        "fig.autofmt_xdate(rotation=45)\n",
        "fig.suptitle('Squadre per ogni nazione suddivise in discipline')\n",
        "\n",
        "data"
      ],
      "execution_count": null,
      "outputs": []
    },
    {
      "cell_type": "markdown",
      "metadata": {
        "id": "f9EQIcfvzsV8"
      },
      "source": [
        "4\\. Visualizzare il nome della nazione che ha portato più squadre\n"
      ]
    },
    {
      "cell_type": "code",
      "metadata": {
        "id": "-mbG4zQyzsRF"
      },
      "source": [
        "df.groupby('NOC', as_index=False).agg({'Event': 'count'}).sort_values('Event', ascending=False).values[0][0]"
      ],
      "execution_count": null,
      "outputs": []
    },
    {
      "cell_type": "markdown",
      "metadata": {
        "id": "tGFCZ3PizvpC"
      },
      "source": [
        "5\\. Eliminare la colonna “Event”\n"
      ]
    },
    {
      "cell_type": "code",
      "metadata": {
        "id": "uHUf6Y_6zvlI"
      },
      "source": [
        "df = df.drop(columns=['Event'])"
      ],
      "execution_count": null,
      "outputs": []
    },
    {
      "cell_type": "markdown",
      "metadata": {
        "id": "joys7H7GzyZN"
      },
      "source": [
        "6\\. Rinominare la colonna NOC in “Name”"
      ]
    },
    {
      "cell_type": "code",
      "metadata": {
        "id": "Rn29nEOzzyU7"
      },
      "source": [
        "df.rename(columns={\"NOC\": \"Name\"})"
      ],
      "execution_count": null,
      "outputs": []
    },
    {
      "cell_type": "markdown",
      "metadata": {
        "id": "NdbmOVa3qeue"
      },
      "source": [
        "# Verifica **B**"
      ]
    },
    {
      "cell_type": "code",
      "metadata": {
        "id": "tG1v3U2Z0JqN"
      },
      "source": [
        "df = pd.read_excel('https://raw.githubusercontent.com/wtitze/3E/main/EntriesGender.xlsx')\n",
        "df"
      ],
      "execution_count": null,
      "outputs": []
    },
    {
      "cell_type": "markdown",
      "metadata": {
        "id": "YWhLXMqQqftq"
      },
      "source": [
        "1\\. Visualizzare il numero di atleti maschi del nuoto"
      ]
    },
    {
      "cell_type": "code",
      "metadata": {
        "id": "5M_YBaDCqfb8"
      },
      "source": [
        "df[df['Discipline'] == 'Swimming']['Male']"
      ],
      "execution_count": null,
      "outputs": []
    },
    {
      "cell_type": "markdown",
      "metadata": {
        "id": "i8fEZB0L26Vm"
      },
      "source": [
        "2\\. Visualizzare le discipline con meno di 100 atleti donne\n"
      ]
    },
    {
      "cell_type": "code",
      "metadata": {
        "id": "EPmV5EVN26SJ"
      },
      "source": [
        "df[df['Female'] <= 100]['Discipline']"
      ],
      "execution_count": null,
      "outputs": []
    },
    {
      "cell_type": "markdown",
      "metadata": {
        "id": "ZLDDsoGtIblm"
      },
      "source": [
        "3\\. Aggiungere una colonna contenente il numero totale di atleti di ogni disciplina. Chiamare la colonna “Total”\n"
      ]
    },
    {
      "cell_type": "code",
      "metadata": {
        "id": "XPavOMSmIbc2"
      },
      "source": [
        "df['Total'] = df['Female'] + df['Male']"
      ],
      "execution_count": null,
      "outputs": []
    },
    {
      "cell_type": "markdown",
      "metadata": {
        "id": "sHtd88FUJTGY"
      },
      "source": [
        "4\\. Visualizzare la nazione che ha più atleti (in totale)\n"
      ]
    },
    {
      "cell_type": "code",
      "metadata": {
        "id": "Tl98c32oJTCM"
      },
      "source": [
        "# df['NOC'].values_count()[0]\n",
        "# Assenza della colonna NOC"
      ],
      "execution_count": null,
      "outputs": []
    },
    {
      "cell_type": "markdown",
      "metadata": {
        "id": "Bs-byjLDJ1wU"
      },
      "source": [
        "5\\. Visualizzare il numero totale di atleti\n"
      ]
    },
    {
      "cell_type": "code",
      "metadata": {
        "id": "v__5720iJ1rl"
      },
      "source": [
        "df['Total'].sum()"
      ],
      "execution_count": null,
      "outputs": []
    },
    {
      "cell_type": "markdown",
      "metadata": {
        "id": "VX_dEWURJ7Pf"
      },
      "source": [
        "6\\. Aggiungere una colonna contenente la percentuale di atleti di ogni disciplina rispetto al totale. Chiamare la colonna “Percentuale”"
      ]
    },
    {
      "cell_type": "code",
      "metadata": {
        "id": "yWS3BesrJ7Kf"
      },
      "source": [
        "df['Percentuale'] = round(100 * df['Total']/df['Total'].sum(), 2)"
      ],
      "execution_count": null,
      "outputs": []
    },
    {
      "cell_type": "markdown",
      "metadata": {
        "id": "4PsWgWH3KTeG"
      },
      "source": [
        "<hr>"
      ]
    },
    {
      "cell_type": "code",
      "metadata": {
        "id": "QFb_X9DdKSv8"
      },
      "source": [
        "df = pd.read_excel('https://raw.githubusercontent.com/wtitze/3E/main/Coaches.xlsx')\n",
        "df"
      ],
      "execution_count": null,
      "outputs": []
    },
    {
      "cell_type": "markdown",
      "metadata": {
        "id": "XqLRrcZ3KS0n"
      },
      "source": [
        "1\\. Visualizzare il numero di allenatori per ogni nazione. Ordinare in ordine decrescente a partire dalla nazione che ha più allenatori. \n"
      ]
    },
    {
      "cell_type": "code",
      "metadata": {
        "id": "J7DKbRXfKT0W"
      },
      "source": [
        "data = df['NOC'].value_counts().sort_values(ascending=False)\n",
        "\n",
        "\n",
        "# Plot\n",
        "fig = plt.figure(figsize=(30,12))\n",
        "ax = plt.axes()\n",
        "\n",
        "ax.bar(data.index, data)\n",
        "fig.autofmt_xdate(rotation=45)\n",
        "fig.suptitle('Numero di allenatori di ogni nazione')\n",
        "\n",
        "data"
      ],
      "execution_count": null,
      "outputs": []
    },
    {
      "cell_type": "markdown",
      "metadata": {
        "id": "zyEpFSHJMyKp"
      },
      "source": [
        "2\\. Visualizzare il numero di allenatori per ogni  disciplina. Ordinare in ordine decrescente in base alla disciplina in cui ci sono più allenatori\n"
      ]
    },
    {
      "cell_type": "code",
      "metadata": {
        "id": "NCajpArPMyGQ"
      },
      "source": [
        "data = df['Discipline'].value_counts().sort_values(ascending=False)\n",
        "\n",
        "\n",
        "# Plot\n",
        "fig = plt.figure()\n",
        "ax = plt.axes()\n",
        "\n",
        "ax.bar(df['Discipline'].value_counts().index, df['Discipline'].value_counts())\n",
        "fig.autofmt_xdate(rotation=45)\n",
        "fig.suptitle('Numero di allenatori di ogni disciplina')\n",
        "\n",
        "data"
      ],
      "execution_count": null,
      "outputs": []
    },
    {
      "cell_type": "markdown",
      "metadata": {
        "id": "78BY7DmENNGh"
      },
      "source": [
        "3\\. Visualizzare il nome della nazione che ha portato più allenatori"
      ]
    },
    {
      "cell_type": "code",
      "metadata": {
        "id": "_vEglUlyNNAX"
      },
      "source": [
        "df['NOC'].value_counts().sort_values(ascending=False).index[0]"
      ],
      "execution_count": null,
      "outputs": []
    },
    {
      "cell_type": "markdown",
      "metadata": {
        "id": "tLwthtkeNaB9"
      },
      "source": [
        "4\\. Visualizzare il nome delle nazioni che hanno portato più allenatori rispetto alla media "
      ]
    },
    {
      "cell_type": "code",
      "metadata": {
        "id": "pDzq1QDZNZ74"
      },
      "source": [
        "pd.Series(df['NOC'].value_counts()/df['NOC'].value_counts().sum() * 100).sort_values().index[0]"
      ],
      "execution_count": null,
      "outputs": []
    },
    {
      "cell_type": "markdown",
      "metadata": {
        "id": "3XBAh5PUNfIt"
      },
      "source": [
        "5\\. Eliminare la colonna “Name”"
      ]
    },
    {
      "cell_type": "code",
      "metadata": {
        "id": "pvb1IL53NfD6"
      },
      "source": [
        "df = df.drop(columns='Name')"
      ],
      "execution_count": null,
      "outputs": []
    },
    {
      "cell_type": "markdown",
      "metadata": {
        "id": "GkYQcol2NqNo"
      },
      "source": [
        "6\\. Rinominare la colonna NOC in “Name”"
      ]
    },
    {
      "cell_type": "code",
      "metadata": {
        "id": "LU8wmpmrNqJf"
      },
      "source": [
        "df.rename(columns={\"NOC\": \"Name\"})"
      ],
      "execution_count": null,
      "outputs": []
    }
  ]
}