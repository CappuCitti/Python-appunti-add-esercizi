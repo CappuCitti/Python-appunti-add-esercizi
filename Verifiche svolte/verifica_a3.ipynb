{
  "nbformat": 4,
  "nbformat_minor": 0,
  "metadata": {
    "colab": {
      "name": "verifica-a3.ipynb",
      "provenance": [],
      "collapsed_sections": []
    },
    "kernelspec": {
      "name": "python3",
      "display_name": "Python 3"
    },
    "language_info": {
      "name": "python"
    }
  },
  "cells": [
    {
      "cell_type": "markdown",
      "metadata": {
        "id": "YstLIwWzK9Ec"
      },
      "source": [
        "1\\. Scrivere un programma che calcoli la somma di due frazioni. L’utente deve inserire il numeratore e il denominatore della prima frazione e poi numeratore e denominatore della seconda frazione e il programma calcola la somma.\n"
      ]
    },
    {
      "cell_type": "code",
      "metadata": {
        "id": "T33ZwlwaK83a"
      },
      "source": [
        "n1 = int(input('Inscerisci il numeratore per il primo numero: '))\n",
        "d1 = int(input('Inscerisci il denominatore per il primo numero: '))\n",
        "n2 = int(input('Inscerisci il numeratore per il secondo numero: '))\n",
        "d2 = int(input('Inscerisci il denominatore per il secondo numero: '))\n",
        "\n",
        "res_n = (n1+d2)+(d1+n2)\n",
        "res_d = d1*d2\n",
        "\n",
        "i = 1\n",
        "# Trova l'MCD (Massimo Comun Divisiore) tra i due numeri\n",
        "while(i <= res_n and i <= res_d):\n",
        "  if(res_n % i == 0 and res_d % i == 0):\n",
        "    mcd = i\n",
        "  i = i + 1\n",
        "\n",
        "print('Il risultato della frazione è: {}/{}'.format(int(res_n/mcd), int(res_d/mcd)))"
      ],
      "execution_count": null,
      "outputs": []
    },
    {
      "cell_type": "markdown",
      "metadata": {
        "id": "QG2_8MlhK9Pz"
      },
      "source": [
        "2\\. Scrivere un programma che permetta di verificare se un orario è scritto correttamente. Un orario è scritto correttamente se è formato da 5 caratteri di cui il terzo è il carattere : . Ad esempio 13:45 è scritto correttamente 123:4 non è scritto correttamente."
      ]
    },
    {
      "cell_type": "code",
      "metadata": {
        "id": "gYtgW_I4Kutf"
      },
      "source": [
        "t = input('Inscerisci un orario da convalidare: ')\n",
        "\n",
        "t_ = list(t)\n",
        "middle = t_[len(t_)//2]\n",
        "\n",
        "if middle == ':':\n",
        "#  for w in [x.replace('e', '') for x in t_]:\n",
        "#    if not w.isdigit():\n",
        "#      if t.split(':')[0].isdigit() and t.split(':')[1].isdigit():\n",
        "#        if int(t.split(':')[0]) <= 23 and int(t.split(':')[0]) >= 0 and int(t.split(':')[1]) <= 59 and int(t.split(':')[1]) >= 0:\n",
        "  print('{} è un orario valido'.format(t))\n",
        "else:\n",
        "  print('{} non è un orario valido'.format(t))"
      ],
      "execution_count": null,
      "outputs": []
    },
    {
      "cell_type": "markdown",
      "metadata": {
        "id": "kUk-7wkjmpIz"
      },
      "source": [
        "3\\. Scrivere un programma che visualizzi le prime dieci potenze di un numero inserito dall’utente. Ad esempio se l’utente inserisse 2 il programma dovrebbe visualizzare i valori 1, 2, 4, 8, 16, 32, 64, 128, 256 e 512. Separare i valori con il trattino -\n"
      ]
    },
    {
      "cell_type": "code",
      "metadata": {
        "id": "ZC8acGQImpVT"
      },
      "source": [
        "num = int(input('Inserisci un numero: '))\n",
        "print(' - '.join([str(num**n) for n in range(10)]))"
      ],
      "execution_count": null,
      "outputs": []
    },
    {
      "cell_type": "markdown",
      "metadata": {
        "id": "PMTYazwAoJg-"
      },
      "source": [
        "4\\. Scrivere un programma che carichi in una lista le prime venti potenze di un numero inserito dall’utente. Al termine visualizzare gli ultimi tre elementi della lista."
      ]
    },
    {
      "cell_type": "code",
      "metadata": {
        "id": "9rpRvHI5oJrX"
      },
      "source": [
        "num = int(input('Inserisci un numero: '))\n",
        "\n",
        "l = [str(num**n) for n in range(20)]\n",
        "\n",
        "print(', '.join(l[-3:]))"
      ],
      "execution_count": null,
      "outputs": []
    },
    {
      "cell_type": "markdown",
      "metadata": {
        "id": "g21PFWxtpFWm"
      },
      "source": [
        "5\\. Scrivere un programma che elimini dalla lista precedente tutti i numeri compresi tra due estremi inseriti dall’utente. Visualizzare al termine la lista modificata"
      ]
    },
    {
      "cell_type": "code",
      "metadata": {
        "id": "eJ5BLoYwpFoc"
      },
      "source": [
        "n_min = int(input('Inserisci il valore minimo: '))\n",
        "n_max = int(input('Inserisci il valore massimo: '))\n",
        "\n",
        "for n in l:\n",
        "  n = int(n)\n",
        "  if n >= n_min and n <= n_max:\n",
        "    l.remove(str(n))\n",
        "\n",
        "print('Lista aggiornata: {}'.format(l))"
      ],
      "execution_count": null,
      "outputs": []
    },
    {
      "cell_type": "markdown",
      "metadata": {
        "id": "iF_Ymdh5wVnZ"
      },
      "source": [
        "6\\. Scrivere una funzione chiamata prodotto che data una lista di numeri interi restituisca il prodotto di tutti i suoi elementi. Ad esempio se la lista fosse [2, 5, 3] la funzione restituirebbe 30\n"
      ]
    },
    {
      "cell_type": "code",
      "metadata": {
        "id": "NBzhDD5Krltp"
      },
      "source": [
        "l = [2, 5, 3]\n",
        "\n",
        "res = 1\n",
        "for x in l:\n",
        "  res = res * x\n",
        "\n",
        "print(res)"
      ],
      "execution_count": null,
      "outputs": []
    },
    {
      "cell_type": "markdown",
      "metadata": {
        "id": "1g1f_KG0uPM7"
      },
      "source": [
        "7\\. Scrivere un programma che permetta di caricare in una struttura dati opportuna i nomi delle nazioni che compongono l’Unione Europea, le loro capitali e la popolazione (inserire solo tre nazioni). Visualizzare poi i dati di una nazione inserita dall’utente\n"
      ]
    },
    {
      "cell_type": "code",
      "metadata": {
        "id": "cno04_KcuPWy"
      },
      "source": [
        "nazioni = {'Italia': {'capitale': 'Roma', 'abitanti': 5972981}, 'Germania': {'capitale': 'Berlino', 'abitanti': 83029962}, 'Spagna': {'capitale': 'Madrid', 'abitanti': 47133521}}\n",
        "\n",
        "req = input('Insceri il nome di una nazione: ')\n",
        "\n",
        "print('Capitale: {}\\nPopolazione: {} abitanti'.format(nazioni[req]['capitale'], nazioni[req]['abitanti']))"
      ],
      "execution_count": null,
      "outputs": []
    },
    {
      "cell_type": "markdown",
      "metadata": {
        "id": "_Igy90uBv0xy"
      },
      "source": [
        "8\\. Scrivere un programma che, utilizzando una lambda function e la funzione map, elevi alla terza tutti gli elementi della lista. La lista deve essere caricata dall’utente.\n"
      ]
    },
    {
      "cell_type": "code",
      "metadata": {
        "id": "PRvPlYy0v0_J"
      },
      "source": [
        "l = input('Inserisci una lista: ').split(',')\n",
        "\n",
        "print(list(map(lambda n: int(n)**3, l)))"
      ],
      "execution_count": null,
      "outputs": []
    },
    {
      "cell_type": "markdown",
      "metadata": {
        "id": "AFeuN-qa2-ap"
      },
      "source": [
        "9\\. Scrivere una funzione che calcoli in modo ricorsivo il prodotto tra due numeri."
      ]
    },
    {
      "cell_type": "code",
      "metadata": {
        "id": "w5Fu3Uzt2-rB"
      },
      "source": [
        "def mol(n, e):\n",
        "  if n == 0 or e == 0:\n",
        "    return 0\n",
        "  elif e == 1:\n",
        "    return n\n",
        "  else:\n",
        "    return n + mol(n, e-1)\n",
        "\n",
        "\n",
        "print(mol(3, 9))"
      ],
      "execution_count": null,
      "outputs": []
    }
  ]
}
