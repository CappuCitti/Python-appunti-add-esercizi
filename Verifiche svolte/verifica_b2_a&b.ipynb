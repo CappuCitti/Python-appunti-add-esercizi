{
  "nbformat": 4,
  "nbformat_minor": 0,
  "metadata": {
    "colab": {
      "name": "verifica_b2_a&b.ipynb",
      "provenance": [],
      "collapsed_sections": []
    },
    "kernelspec": {
      "name": "python3",
      "display_name": "Python 3"
    },
    "language_info": {
      "name": "python"
    }
  },
  "cells": [
    {
      "cell_type": "markdown",
      "metadata": {
        "id": "maTYzT2eXhQ3"
      },
      "source": [
        "# Verifica **A**"
      ]
    },
    {
      "cell_type": "markdown",
      "metadata": {
        "id": "Xbr1RV_nXd03"
      },
      "source": [
        "1\\. Scrivere un programma che calcoli il volume di un parallelepipedo data la base, l’altezza e la profondità. I valori inseriti possono essere decimali e il risultato deve essere fornito con due cifre decimali. I valori della base, dell’altezza e della profondità devono essere inseriti dall’utente\n"
      ]
    },
    {
      "cell_type": "code",
      "metadata": {
        "id": "sVT3D1v-XFJW"
      },
      "source": [
        "a = float(input('Inserisci la lunghezza della base: '))\n",
        "b = float(input('Inserisci la lunghezza della profondità: '))\n",
        "h = float(input('Inserisci la lunghezza dell\\'altezza: '))\n",
        "\n",
        "print('Volume del parallelepipedo: {}cm'.format(round(a*b*h, 2)))"
      ],
      "execution_count": null,
      "outputs": []
    },
    {
      "cell_type": "markdown",
      "metadata": {
        "id": "tB5oGdQDZLn0"
      },
      "source": [
        "2\\. Modificare il programma precedente in modo che prima di effettuare il calcolo controlli che i valori inseriti dall’utente siano positivi. Visualizzare gli opportuni messaggi di errore a seconda del verificarsi delle diverse condizioni\n"
      ]
    },
    {
      "cell_type": "code",
      "metadata": {
        "id": "C1svWEuUZLjZ"
      },
      "source": [
        "a = float(input('Inserisci la lunghezza della base: '))\n",
        "b = float(input('Inserisci la lunghezza della profondità: '))\n",
        "h = float(input('Inserisci la lunghezza dell\\'altezza: '))\n",
        "\n",
        "def check_val(val, val_name):\n",
        "  if val < 0:\n",
        "    return print('ERRORE: il valore \\'{}\\' è negativo'.format(val_name))\n",
        "  else:\n",
        "    return True\n",
        "\n",
        "if check_val(a, 'base') == True and check_val(b, 'profondità') == True and check_val(h, 'altezza') == True:\n",
        "  print('Volume del parallelepipedo: {}cm'.format(round(a*b*h, 2)))"
      ],
      "execution_count": null,
      "outputs": []
    },
    {
      "cell_type": "markdown",
      "metadata": {
        "id": "RAmLh1vqc0X_"
      },
      "source": [
        "3\\. Scrivere un programma che permetta di visualizzare tutti i quadrati perfetti minori di un numero intero inserito dall’utente. I quadrati perfetti sono numeri interi che possono essere espressi come il quadrato di un numero intero. Ad esempio 9 è un quadrato perfetto perché è il quadrato del numero intero 3 mentre 8 non è un quadrato perfetto perché non è il quadrato di nessun numero intero)"
      ]
    },
    {
      "cell_type": "code",
      "metadata": {
        "id": "zIfIDWQEc0VT"
      },
      "source": [
        "from math import sqrt\n",
        "\n",
        "num = int(input('Inserisci un numero: '))\n",
        "\n",
        "l = [str(n) for n in range(num) if int(sqrt(n) + 0.5) ** 2 == n]\n",
        "\n",
        "print(', '.join(l))"
      ],
      "execution_count": null,
      "outputs": []
    },
    {
      "cell_type": "markdown",
      "metadata": {
        "id": "4RtXdpNPfTwk"
      },
      "source": [
        "4\\. Scrivere un programma che inserisca in una lista tutti i numeri interi compresi tra due estremi forniti dall’utente. Al termine, visualizzare la lista dei numeri e la lista al contrario\n"
      ]
    },
    {
      "cell_type": "code",
      "metadata": {
        "id": "cb-neMuBfTsJ"
      },
      "source": [
        "n_min = int(input('Inserisci un numero: '))\n",
        "n_max = int(input('Inserisci un numero: '))\n",
        "\n",
        "l = [n for n in range(n_min, n_max + 1)]\n",
        "l.reverse()\n",
        "\n",
        "print(l)"
      ],
      "execution_count": null,
      "outputs": []
    },
    {
      "cell_type": "markdown",
      "metadata": {
        "id": "5STY7ePzf_U1"
      },
      "source": [
        "5\\. Scrivere un programma che carichi in una lista chiamata “tutti” i numeri pari compresi tra -30 e +30. Usando poi lo slicing, caricare in una lista chiamata “negativi” gli elementi della lista “tutti” minori di 0 e in una chiamata “positivi” gli elementi della lista “tutti” maggiori di zero. Al termine visualizzare le tre liste.."
      ]
    },
    {
      "cell_type": "code",
      "metadata": {
        "id": "4LlOchuXf_Oo"
      },
      "source": [
        "tutti = [n for n in range(-30, 31)]\n",
        "negativi = tutti[:len(tutti)//2]\n",
        "positivi = tutti[len(tutti)//2:]\n",
        "\n",
        "print('Numeri: {}\\nNegativi: {}\\nPositivi: {}'.format(tutti, negativi, positivi))"
      ],
      "execution_count": null,
      "outputs": []
    },
    {
      "cell_type": "markdown",
      "metadata": {
        "id": "Z1r5g8mQhC61"
      },
      "source": [
        "6\\. Scrivere una funzione chiamata volumeSfera che dato il raggio in metri di una sfera calcoli il suo volume. Utilizzare poi quella funzione per scrivere un’altra funzione chiamata pesoSfera che permetta di calcolare il peso di una sfera dato il suo raggio in metri e la sua densità, espressa in grammi al centimetro cubo. Infine, scrivere un programma che calcoli il peso di una sfera di piombo del raggio di un metro (la densità del piombo è di 11.34 g/cm3)\n"
      ]
    },
    {
      "cell_type": "code",
      "metadata": {
        "id": "4ywlRvO8hC39"
      },
      "source": [
        "from math import pi\n",
        "\n",
        "r = 1 * 100  # m => cm\n",
        "d = 11.34\n",
        "\n",
        "def volume_sfera(ra):\n",
        "  return (4/3) * pi * ra**3\n",
        "\n",
        "def peso_sfera(p):\n",
        "  return p * volume_sfera(r)\n",
        "\n",
        "print('Il peso della sfera è di: {}kg'.format(round(peso_sfera(d) / 1000, 2)))"
      ],
      "execution_count": null,
      "outputs": []
    },
    {
      "cell_type": "markdown",
      "metadata": {
        "id": "x6iavo2Dk6z0"
      },
      "source": [
        "7\\. Data una lista di 100 numeri pari casuali caricata tramite una list comprehension, sostituire ogni elemento con il suo quadrato \n"
      ]
    },
    {
      "cell_type": "code",
      "metadata": {
        "id": "vO8Q-bldk6u3"
      },
      "source": [
        "from random import randrange as rn\n",
        "\n",
        "l = [rn(2,100,2) for _ in range(100)]\n",
        "l = list(map(lambda n: n**2, l))"
      ],
      "execution_count": null,
      "outputs": []
    },
    {
      "cell_type": "markdown",
      "metadata": {
        "id": "PpAWUAylrCks"
      },
      "source": [
        "8\\. Data una lista di 100 numeri pari casuali caricata tramite una list comprehension, eliminare tutti gli elementi della lista che sono multipli di 6\n"
      ]
    },
    {
      "cell_type": "code",
      "metadata": {
        "id": "0_vNs5vurCiG"
      },
      "source": [
        "from random import randrange as rn\n",
        "\n",
        "l = [rn(2,100,2) for _ in range(100)]\n",
        "\n",
        "l = list(filter(lambda x: x%6 == 1, l))\n",
        "# Oppure\n",
        "\n",
        "for n in l:\n",
        "  if n%6 == 0:\n",
        "    l.remove(n)"
      ],
      "execution_count": null,
      "outputs": []
    },
    {
      "cell_type": "markdown",
      "metadata": {
        "id": "VK_8BBPPrFGB"
      },
      "source": [
        "9\\. Progettare una struttura dati che permetta di memorizzare l’orario di partenza e di arrivo dei treni della tratta Milano Roma dell’alta velocità. Ad esempio il treno 9645 parte alle 16.00 e arriva alle 19.10, il treno 9647 parte alle 16.30 e arriva alle 19.40 a Roma. Memorizzare nella struttura dati progettata queste informazioni e scrivere il codice necessario per cercare un treno ed avere l’ora di partenza e l’ora di arrivo. Se non c’è il treno che l’utente inserisce, dare un opportuno messaggio di errore."
      ]
    },
    {
      "cell_type": "code",
      "metadata": {
        "id": "UiLSCM06rFC3"
      },
      "source": [
        "trains = {\n",
        "  '9645': {\n",
        "    'partenza': '16.00',\n",
        "    'arrivo': '19.10'\n",
        "  },\n",
        "  '9647': {\n",
        "    'partenza': '16.30',\n",
        "    'arrivo': '19.40'\n",
        "  }\n",
        "}\n",
        "\n",
        "tr = input('Inserisci il codice treno: ')\n",
        "\n",
        "if tr in trains.keys():\n",
        "  print('Partenza: {}\\nArrivo: {}'.format(trains[tr]['partenza'], trains[tr]['arrivo']))\n",
        "else:\n",
        "  print('Treno non trovato!')"
      ],
      "execution_count": null,
      "outputs": []
    },
    {
      "cell_type": "markdown",
      "metadata": {
        "id": "mq3Xw8L_XpSw"
      },
      "source": [
        "# Verifica **B**"
      ]
    },
    {
      "cell_type": "markdown",
      "metadata": {
        "id": "NWsNyVB2Xt40"
      },
      "source": [
        "1\\. Scrivere un programma che calcoli le radici (dette anche zeri) di una equazione di secondo grado. L’utente inserisce i valori dei coefficienti  a. b e c e il programma calcola gli zeri.\n"
      ]
    },
    {
      "cell_type": "code",
      "metadata": {
        "id": "HE394L7yXs3-"
      },
      "source": [
        "from math import sqrt\n",
        "\n",
        "a = int(input('Inserisci un numero: '))\n",
        "b = int(input('Inserisci un numero: '))\n",
        "c = int(input('Inserisci un numero: '))\n",
        "\n",
        "diff = sqrt(b**2 - 4*a*c)\n",
        "div = a*2\n",
        "\n",
        "print('Risultato: x1={} | x2={}'.format((-b + diff) / div, (-b - diff) / div))"
      ],
      "execution_count": null,
      "outputs": []
    },
    {
      "cell_type": "markdown",
      "metadata": {
        "id": "y4Y549PjHNGx"
      },
      "source": [
        "2\\. Modificare il programma precedente in modo che prima di effettuare il calcolo controlli che i valori inseriti dall’utente siano accettabili. Visualizzare gli opportuni messaggi di errore a seconda del verificarsi delle diverse condizioni\n"
      ]
    },
    {
      "cell_type": "code",
      "metadata": {
        "id": "Qhgee2xhHNDV"
      },
      "source": [
        "from math import sqrt\n",
        "\n",
        "a = int(input('Inserisci un numero: '))\n",
        "b = int(input('Inserisci un numero: '))\n",
        "c = int(input('Inserisci un numero: '))\n",
        "\n",
        "if a == 0:\n",
        "  a = int(input('Reinserisci il valore di x2: '))\n",
        "\n",
        "diff = b**2 - 4*a*c\n",
        "if diff < 0:\n",
        "  print('Il delta non può essere negativo!')\n",
        "else:\n",
        "  diff = sqrt(diff)\n",
        "  div = a*2\n",
        "  print('Risultato: x1={} | x2={}'.format((-b + diff) / div, (-b - diff) / div))"
      ],
      "execution_count": null,
      "outputs": []
    },
    {
      "cell_type": "markdown",
      "metadata": {
        "id": "4LrircdLIKDB"
      },
      "source": [
        "3\\. Scrivere un programma che permetta di visualizzare tutti i multipli di 10 minori di un numero inserito dall’utente."
      ]
    },
    {
      "cell_type": "code",
      "metadata": {
        "id": "oH25EUykIJ_o"
      },
      "source": [
        "n = int(input('Inserisci un numero: '))\n",
        "\n",
        "print('Multipli di 10 minori di {}: {}'.format(n, ', '.join(list(map(lambda x: str(x*10), [n for n in range(n)])))))"
      ],
      "execution_count": null,
      "outputs": []
    },
    {
      "cell_type": "markdown",
      "metadata": {
        "id": "JiSDq3ArJNNh"
      },
      "source": [
        "4\\. Scrivere un programma che inserisca in una lista tutti i numeri interi pari minori di un numero inserito dall’utente. Al termine, visualizzare la lista dei numeri e la lista al contrario\n"
      ]
    },
    {
      "cell_type": "code",
      "metadata": {
        "id": "vWtSdEdQJNGR"
      },
      "source": [
        "n = int(input('Inserisci un numero: '))\n",
        "\n",
        "l = [num for num in range(n) if num%2 == 0]\n",
        "l.reverse()\n",
        "\n",
        "print(l)"
      ],
      "execution_count": null,
      "outputs": []
    },
    {
      "cell_type": "markdown",
      "metadata": {
        "id": "1iwv7rHbJ6hn"
      },
      "source": [
        "5\\. Scrivere un programma che carichi in una lista chiamata “tutti” i numeri dispari compresi tra 0 e 90. Usando poi lo slicing, caricare in una lista chiamata “bassi” gli elementi della prima metà della lista “tutti” e in una lista chiamata “alti” gli elementi della seconda metà della  lista. Al termine visualizzare le tre liste.."
      ]
    },
    {
      "cell_type": "code",
      "metadata": {
        "id": "HvF3a8TXJrvL"
      },
      "source": [
        "tutti = [n for n in range(91)]\n",
        "bassi = tutti[:len(tutti)//2]\n",
        "alti = tutti[len(tutti)//2:]\n",
        "\n",
        "print('Numeri: {}\\nAlti: {}\\nBassi: {}'.format(tutti, bassi, alti))"
      ],
      "execution_count": null,
      "outputs": []
    },
    {
      "cell_type": "markdown",
      "metadata": {
        "id": "yjNzhl9jKXd6"
      },
      "source": [
        "6\\. Scrivere una funzione chiamata volumeCubo che dato il lato in metri di un cubo calcoli il suo volume. Utilizzare poi quella funzione per scrivere un’altra funzione chiamata pesoCubo che permetta di calcolare il peso in kg di un cubo dato il suo lato in metri e la sua densità, espressa in grammi al centimetro cubo. Infine, scrivere un programma che calcoli il peso di un cubo di alluminio avente il lato di un metro (la densità dell’alluminio è di 2.7 g/cm3)\n"
      ]
    },
    {
      "cell_type": "code",
      "metadata": {
        "id": "lP3SAsutKXSc"
      },
      "source": [
        "from math import pi\n",
        "\n",
        "l = 1 * 100  # m => cm\n",
        "d = 2.7\n",
        "\n",
        "def volume_cubo(la):\n",
        "  return la**3\n",
        "\n",
        "def peso_cubo(p):\n",
        "  return p * volume_cubo(l)\n",
        "\n",
        "print('Il peso del cubo è di: {}kg'.format(round(peso_cubo(d) / 1000, 2)))"
      ],
      "execution_count": null,
      "outputs": []
    },
    {
      "cell_type": "markdown",
      "metadata": {
        "id": "C1mGM0VUL9Hb"
      },
      "source": [
        "7\\. Data una lista di 100 numeri pari casuali caricata tramite una list comprehension, sostituire con uno zero tutti gli elementi della lista che sono multipli di 6\n"
      ]
    },
    {
      "cell_type": "code",
      "metadata": {
        "id": "eH5_I3nuL9EL"
      },
      "source": [
        "from random import randrange as rn\n",
        "\n",
        "l = [rn(2,100,2) for _ in range(100)]\n",
        "l = list(map(lambda n: 0 if n%6 == 0 else n, l))"
      ],
      "execution_count": null,
      "outputs": []
    },
    {
      "cell_type": "markdown",
      "metadata": {
        "id": "nbPpTiSJZRVe"
      },
      "source": [
        "8\\. Data una lista di 100 numeri pari casuali caricata tramite una list comprehension, eliminare tutti gli elementi della lista minori di un valore intero inserito dall’utente\n"
      ]
    },
    {
      "cell_type": "code",
      "metadata": {
        "id": "WYde1tp4ZRQ_"
      },
      "source": [
        "from random import randrange as rn\n",
        "\n",
        "n_input = int(input('Inserisci un numero: '))\n",
        "\n",
        "l = [rn(2,100,2) for _ in range(100)]\n",
        "l = list(filter(lambda n: n > n_input, l))"
      ],
      "execution_count": null,
      "outputs": []
    },
    {
      "cell_type": "markdown",
      "metadata": {
        "id": "Andj8iElaCp6"
      },
      "source": [
        "9\\. Progettare una struttura dati che permetta di memorizzare l’orario di partenza e di arrivo dei treni della tratta Milano Roma dell’alta velocità. Ad esempio il treno 9645 parte alle 16.00 e arriva alle 19.10, il treno 9647 parte alle 16.30 e arriva alle 19.40 a Roma. Memorizzare nella struttura dati progettata queste informazioni e scrivere il codice necessario per cercare un treno ed avere l’ora di partenza e l’ora di arrivo. Se non c’è il treno che l’utente inserisce, dare un opportuno messaggio di errore."
      ]
    },
    {
      "cell_type": "code",
      "metadata": {
        "id": "gikgExUGaCl0"
      },
      "source": [
        "trains = {\n",
        "  '9645': {\n",
        "    'partenza': '16.00',\n",
        "    'arrivo': '19.10'\n",
        "  },\n",
        "  '9647': {\n",
        "    'partenza': '16.30',\n",
        "    'arrivo': '19.40'\n",
        "  }\n",
        "}\n",
        "\n",
        "tr = input('Inserisci il codice treno: ')\n",
        "\n",
        "if tr in trains.keys():\n",
        "  print('Partenza: {}\\nArrivo: {}'.format(trains[tr]['arrivo'], trains[tr]['partenza']))\n",
        "else:\n",
        "  print('Treno non trovato!')"
      ],
      "execution_count": null,
      "outputs": []
    }
  ]
}
