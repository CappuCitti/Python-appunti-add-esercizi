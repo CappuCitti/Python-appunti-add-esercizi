{
  "nbformat": 4,
  "nbformat_minor": 0,
  "metadata": {
    "colab": {
      "name": "esercizio1.ipynb",
      "provenance": []
    },
    "kernelspec": {
      "name": "python3",
      "display_name": "Python 3"
    },
    "language_info": {
      "name": "python"
    }
  },
  "cells": [
    {
      "cell_type": "markdown",
      "metadata": {
        "id": "XfVaKAcrhLnV"
      },
      "source": [
        "a. far inserire all'utente due valori interi"
      ]
    },
    {
      "cell_type": "code",
      "metadata": {
        "colab": {
          "base_uri": "https://localhost:8080/"
        },
        "id": "LszsL0gsf6gW",
        "outputId": "2637d43b-d87f-4bd2-eea9-6da997b11c1f"
      },
      "source": [
        "num1 = int(input(\"Inserire il primo: \"))\n",
        "num2 = int(input(\"Inserire il secondo numero: \"))"
      ],
      "execution_count": null,
      "outputs": [
        {
          "name": "stdout",
          "output_type": "stream",
          "text": [
            "Inserire il primo: 10\n",
            "Inserire il secondo numero: 8\n"
          ]
        }
      ]
    },
    {
      "cell_type": "markdown",
      "metadata": {
        "id": "OII9Uyhzh8HM"
      },
      "source": [
        "b. effettuare le 4 operazioni aritmetiche tra i due numeri"
      ]
    },
    {
      "cell_type": "code",
      "metadata": {
        "colab": {
          "base_uri": "https://localhost:8080/"
        },
        "id": "sTSaqXbNiCof",
        "outputId": "cd982ebf-014f-42c1-d55a-931ff2719956"
      },
      "source": [
        "print(\"Add: \" + str(num1 + num2) + \"\\nSot: \" + str(num1 - num2) + \"\\nMol: \" + str(num1 * num2) + \"\\nDiv: \" + str(num1 / num2)) "
      ],
      "execution_count": null,
      "outputs": [
        {
          "output_type": "stream",
          "name": "stdout",
          "text": [
            "Add: 18\n",
            "Sot: 2\n",
            "Mol: 80\n",
            "Div: 1.25\n"
          ]
        }
      ]
    },
    {
      "cell_type": "markdown",
      "metadata": {
        "id": "ThmYlXiwiUW_"
      },
      "source": [
        "c. effettuare l'elevamento a potenza del primo numero per il secondo\n"
      ]
    },
    {
      "cell_type": "code",
      "metadata": {
        "colab": {
          "base_uri": "https://localhost:8080/"
        },
        "id": "CDLVPd7Mils9",
        "outputId": "b6b8895a-0fbf-4fac-c22b-02a41c9bfd11"
      },
      "source": [
        "print(\"Elevamento alla potenza: \" + str(num1**num2))"
      ],
      "execution_count": null,
      "outputs": [
        {
          "output_type": "stream",
          "name": "stdout",
          "text": [
            "Elevamento alla potenza: 100000000\n"
          ]
        }
      ]
    },
    {
      "cell_type": "markdown",
      "metadata": {
        "id": "Sny7DcRRixn9"
      },
      "source": [
        "d. effettuare il calcolo del resto della divisione tra il primo e il secondo numero"
      ]
    },
    {
      "cell_type": "code",
      "metadata": {
        "colab": {
          "base_uri": "https://localhost:8080/"
        },
        "id": "LbQbzEdgizKe",
        "outputId": "1165f63e-e3b6-4898-abe0-fe8e5d1455ab"
      },
      "source": [
        "print(\"Resto della divisione: \" + str(num1%num2))"
      ],
      "execution_count": null,
      "outputs": [
        {
          "output_type": "stream",
          "name": "stdout",
          "text": [
            "Resto della divisione: 2\n"
          ]
        }
      ]
    },
    {
      "cell_type": "markdown",
      "metadata": {
        "id": "AcOjZTURi6oM"
      },
      "source": [
        "f. effettuare la divisione intera tra il primo e il secondo numero\n"
      ]
    },
    {
      "cell_type": "code",
      "metadata": {
        "colab": {
          "base_uri": "https://localhost:8080/"
        },
        "id": "sLTCP_DIi91W",
        "outputId": "e60d713a-ad60-4369-cbbf-424c1c11821a"
      },
      "source": [
        "print(\"Divisione intera: \" + str(num1//num2))"
      ],
      "execution_count": null,
      "outputs": [
        {
          "output_type": "stream",
          "name": "stdout",
          "text": [
            "Divisione intera: 1\n"
          ]
        }
      ]
    },
    {
      "cell_type": "markdown",
      "metadata": {
        "id": "6CAjkkdIjDHN"
      },
      "source": [
        "g. incrementare di una unità entrambi i numeri"
      ]
    },
    {
      "cell_type": "code",
      "metadata": {
        "colab": {
          "base_uri": "https://localhost:8080/"
        },
        "id": "Gfqd--mKjpux",
        "outputId": "102b427b-79ce-4417-e165-a6bb31ea9b8f"
      },
      "source": [
        "print(\"Num1+1: \" + str(num1+1) + \"\\nNum2+1: \" + str(num2+1))"
      ],
      "execution_count": null,
      "outputs": [
        {
          "output_type": "stream",
          "name": "stdout",
          "text": [
            "Num1+1: 11\n",
            "Num2+1: 9\n"
          ]
        }
      ]
    },
    {
      "cell_type": "markdown",
      "metadata": {
        "id": "SYdZb3lfjqOp"
      },
      "source": [
        "h. far inserie all'utente due valori: il primo rappresenta la sua altezza (in metri) e il secondo rappresenta il suo peso (in kg). Visualizzare poi l'IMC (google it...)"
      ]
    },
    {
      "cell_type": "code",
      "metadata": {
        "colab": {
          "base_uri": "https://localhost:8080/"
        },
        "id": "3fUo9dkIjtNH",
        "outputId": "6879deba-24c4-42e3-f508-c4c3bee259a1"
      },
      "source": [
        "h = float(input(\"Inserire l'altezza in metri: \"))\n",
        "m = float(input(\"Inserire il peso in kg: \"))\n",
        "imc = m/(h**2)\n",
        "print(\"IMC: \" + str(imc))"
      ],
      "execution_count": null,
      "outputs": [
        {
          "output_type": "stream",
          "name": "stdout",
          "text": [
            "Inserire l'altezza in metri: 1.78\n",
            "Inserire il peso in kg: 90\n",
            "IMC: 28.40550435551067\n"
          ]
        }
      ]
    },
    {
      "cell_type": "markdown",
      "metadata": {
        "id": "2JURZU00kUDC"
      },
      "source": [
        "i. arrotondare l'IMC precedente"
      ]
    },
    {
      "cell_type": "code",
      "metadata": {
        "colab": {
          "base_uri": "https://localhost:8080/"
        },
        "id": "Z_NdwqTYkVSx",
        "outputId": "f0a2c9e3-98a3-4c29-b8d8-0cd6a6403094"
      },
      "source": [
        "print(\"IMC: \" + str(round(imc, 2)))"
      ],
      "execution_count": null,
      "outputs": [
        {
          "output_type": "stream",
          "name": "stdout",
          "text": [
            "IMC: 28.41\n"
          ]
        }
      ]
    },
    {
      "cell_type": "markdown",
      "metadata": {
        "id": "6kd0UqAwloJo"
      },
      "source": [
        "j. visualizzare il proprio nome, cognome, data di nascita e città di nascita separando le informazioni con un trattino."
      ]
    },
    {
      "cell_type": "code",
      "metadata": {
        "colab": {
          "base_uri": "https://localhost:8080/"
        },
        "id": "rkjFZmCPlrUU",
        "outputId": "176ddc9d-3c4d-4af5-f5c1-5c766854e58a"
      },
      "source": [
        "print(\"Luca\", \"Cappuccitti\", \"27/05/2005\", sep=\" - \")"
      ],
      "execution_count": null,
      "outputs": [
        {
          "output_type": "stream",
          "name": "stdout",
          "text": [
            "Luca - Cappuccitti - 27/05/2005\n"
          ]
        }
      ]
    },
    {
      "cell_type": "markdown",
      "metadata": {
        "id": "cudiiWQFl9I8"
      },
      "source": [
        "k. visualizzare le stesse informazioni per 10 volte di seguito\n"
      ]
    },
    {
      "cell_type": "code",
      "metadata": {
        "colab": {
          "base_uri": "https://localhost:8080/"
        },
        "id": "lr_ReD4ml9_1",
        "outputId": "9dfac092-79ed-4ff8-9c73-13b9bf7391e5"
      },
      "source": [
        "print(\"Luca - Cappuccitti - 27/05/2005\" *10)"
      ],
      "execution_count": null,
      "outputs": [
        {
          "output_type": "stream",
          "name": "stdout",
          "text": [
            "Luca - Cappuccitti - 27/05/2005Luca - Cappuccitti - 27/05/2005Luca - Cappuccitti - 27/05/2005Luca - Cappuccitti - 27/05/2005Luca - Cappuccitti - 27/05/2005Luca - Cappuccitti - 27/05/2005Luca - Cappuccitti - 27/05/2005Luca - Cappuccitti - 27/05/2005Luca - Cappuccitti - 27/05/2005Luca - Cappuccitti - 27/05/2005\n"
          ]
        }
      ]
    },
    {
      "cell_type": "markdown",
      "metadata": {
        "id": "ym0R9elQmjkA"
      },
      "source": [
        "l. assegnare il proprio nome e cognome ad una stringa e visualizzarla con tutte le lettere maiuscole\n"
      ]
    },
    {
      "cell_type": "code",
      "metadata": {
        "colab": {
          "base_uri": "https://localhost:8080/"
        },
        "id": "zGMo_vbpmipL",
        "outputId": "71c7792a-c075-43f2-f96f-9dd7700e7b7e"
      },
      "source": [
        "string = \"Luca Cappuccitti\"\n",
        "print(\"Maiuscolo: \" + string.upper())"
      ],
      "execution_count": null,
      "outputs": [
        {
          "output_type": "stream",
          "name": "stdout",
          "text": [
            "Maiuscolo: LUCA CAPPUCCITTI\n"
          ]
        }
      ]
    },
    {
      "cell_type": "markdown",
      "metadata": {
        "id": "8rkmWiuznIVv"
      },
      "source": [
        "m. assegnare il proprio nome e cognome ad una stringa e visualizzarla con le prime lettere maiuscole\n"
      ]
    },
    {
      "cell_type": "code",
      "metadata": {
        "colab": {
          "base_uri": "https://localhost:8080/"
        },
        "id": "5-rGJ6UfnLpD",
        "outputId": "ddfee652-9960-4da5-b256-264f3e57d8ab"
      },
      "source": [
        "string = \"luca cappuccitti\"\n",
        "print(string.title())"
      ],
      "execution_count": null,
      "outputs": [
        {
          "output_type": "stream",
          "name": "stdout",
          "text": [
            "Luca Cappuccitti\n"
          ]
        }
      ]
    },
    {
      "cell_type": "markdown",
      "metadata": {
        "id": "-DOviaTCnSQK"
      },
      "source": [
        "n. assegnare il proprio nome e cognome ad una stringa e visualizzarne la lunghezza\n"
      ]
    },
    {
      "cell_type": "code",
      "metadata": {
        "colab": {
          "base_uri": "https://localhost:8080/"
        },
        "id": "VGKLN2CUnUzG",
        "outputId": "d83c83fa-fb55-4cf1-f794-4fef2c97f517"
      },
      "source": [
        "string = \"Luca Cappuccitti\"\n",
        "print(\"Lunghezza della string: \" + str(len(string)))"
      ],
      "execution_count": null,
      "outputs": [
        {
          "output_type": "stream",
          "name": "stdout",
          "text": [
            "Lunghezza della string: 16\n"
          ]
        }
      ]
    },
    {
      "cell_type": "markdown",
      "metadata": {
        "id": "Cf5i-dWmns3s"
      },
      "source": [
        "o. assegnare il proprio nome e cognome ad una stringa e contate quante vocali contiene\n"
      ]
    },
    {
      "cell_type": "code",
      "metadata": {
        "colab": {
          "base_uri": "https://localhost:8080/"
        },
        "id": "M8P5kyJGnsh9",
        "outputId": "79dc1b5a-feea-4fe0-97ea-a5b3f822d58c"
      },
      "source": [
        "string = \"Luca Cappuccitti\"\n",
        "\n",
        "def get_vocals_v2(s):\n",
        "  vocals = 0\n",
        "  s = s.lower()\n",
        "  s = list(s)\n",
        "  for i in s:\n",
        "    if i == \"a\" or i == \"e\" or i == \"i\" or i == \"o\" or i == \"u\":\n",
        "      vocals+=1\n",
        "\n",
        "  return str(vocals)\n",
        "\n",
        "print(\"Vocali della string: \" + get_vocals_v2(string))"
      ],
      "execution_count": null,
      "outputs": [
        {
          "output_type": "stream",
          "name": "stdout",
          "text": [
            "Vocali della string: 6\n"
          ]
        }
      ]
    },
    {
      "cell_type": "markdown",
      "metadata": {
        "id": "SaqBPPkQnsM0"
      },
      "source": [
        "p. assegnare il proprio nome e cognome ad una stringa e visualizzare i primi 5 caratteri\n"
      ]
    },
    {
      "cell_type": "code",
      "metadata": {
        "colab": {
          "base_uri": "https://localhost:8080/"
        },
        "id": "LxXGar3Utaoa",
        "outputId": "8e5b5ae0-b21b-4768-bca7-388d9677d100"
      },
      "source": [
        "string = \"Luca Cappuccitti\"\n",
        "print(string[0:5])"
      ],
      "execution_count": null,
      "outputs": [
        {
          "output_type": "stream",
          "name": "stdout",
          "text": [
            "Luca \n"
          ]
        }
      ]
    },
    {
      "cell_type": "markdown",
      "metadata": {
        "id": "rqxGbLPJto66"
      },
      "source": [
        "q. assegnare il proprio nome e cognome ad una stringa e visualizzare gli ultimi 5 caratteri\n"
      ]
    },
    {
      "cell_type": "code",
      "metadata": {
        "colab": {
          "base_uri": "https://localhost:8080/"
        },
        "id": "DnlvrflHtqY6",
        "outputId": "e0a0ad41-5193-4ea9-fa4e-9de94c6a48b8"
      },
      "source": [
        "string = \"Luca Cappuccitti\"\n",
        "print(string[-5:])"
      ],
      "execution_count": null,
      "outputs": [
        {
          "output_type": "stream",
          "name": "stdout",
          "text": [
            "citti\n"
          ]
        }
      ]
    },
    {
      "cell_type": "markdown",
      "metadata": {
        "id": "xV_kN9WRt4Dq"
      },
      "source": [
        "r. assegnare il proprio nome e cognome ad una stringa e visualizzare i 5 caratteri centrali\n"
      ]
    },
    {
      "cell_type": "code",
      "metadata": {
        "colab": {
          "base_uri": "https://localhost:8080/"
        },
        "id": "ns8hDoiot3pc",
        "outputId": "a7adf12b-a5f2-44a1-affc-8a0b0bf13000"
      },
      "source": [
        "string = \"Luca Cappuccitti\"\n",
        "center = int(len(string)/2)\n",
        "print(string[center-2:center+3])"
      ],
      "execution_count": null,
      "outputs": [
        {
          "output_type": "stream",
          "name": "stdout",
          "text": [
            "appuc\n"
          ]
        }
      ]
    },
    {
      "cell_type": "markdown",
      "metadata": {
        "id": "RPB3fpDcu0Z8"
      },
      "source": [
        "s. assegnare il proprio nome e cognome ad una stringa e sostituire le vocali con una X\n"
      ]
    },
    {
      "cell_type": "code",
      "metadata": {
        "colab": {
          "base_uri": "https://localhost:8080/"
        },
        "id": "IWibfA48u1MR",
        "outputId": "3e2f3e58-aabf-4f55-a709-b90bd5b80771"
      },
      "source": [
        "string = \"Luca Cappuccitti\"\n",
        "\n",
        "print(string.lower().replace(\"a\", \"x\").replace(\"e\", \"x\").replace(\"i\", \"x\").replace(\"o\", \"x\").replace(\"u\", \"x\"))"
      ],
      "execution_count": null,
      "outputs": [
        {
          "output_type": "stream",
          "name": "stdout",
          "text": [
            "lxcx cxppxccxttx\n"
          ]
        }
      ]
    }
  ]
}
