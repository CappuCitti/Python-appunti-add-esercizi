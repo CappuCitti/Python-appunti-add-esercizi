{
  "nbformat": 4,
  "nbformat_minor": 0,
  "metadata": {
    "colab": {
      "name": "esercizio2.ipynb",
      "provenance": [],
      "collapsed_sections": []
    },
    "kernelspec": {
      "name": "python3",
      "display_name": "Python 3"
    },
    "language_info": {
      "name": "python"
    }
  },
  "cells": [
    {
      "cell_type": "markdown",
      "metadata": {
        "id": "mtaIllWuNrqM"
      },
      "source": [
        "1. Scrivere un programma che crei una lista contenente i nomi dei capoluoghi delle regioni italiane e che visualizzi la lista. Chiamare la lista capoluoghiRegione"
      ]
    },
    {
      "cell_type": "code",
      "metadata": {
        "id": "RuUQ5iToNj5E"
      },
      "source": [
        "capoluoghiRegione =  ['Aquila','Potenza','Catanzaro','Napoli','Bologna','Trieste','Roma','Genova','Milano','Ancona','Campobasso','Torino','Bari','Cagliari','Palermo','Firenze','Trento','Perugia','Aosta','Venezia']"
      ],
      "execution_count": null,
      "outputs": []
    },
    {
      "cell_type": "markdown",
      "metadata": {
        "id": "LN14bLUqO6B3"
      },
      "source": [
        "2. Scrivere un programma che visualizzi i primi 6 capoluoghi di regione presenti in capoluoghiRegione"
      ]
    },
    {
      "cell_type": "code",
      "metadata": {
        "id": "8YEmRxzzO6XW"
      },
      "source": [
        "print(capoluoghiRegione[:6])"
      ],
      "execution_count": null,
      "outputs": []
    },
    {
      "cell_type": "markdown",
      "metadata": {
        "id": "9EjgrwhfPOCJ"
      },
      "source": [
        "3. Scrivere un programma che visualizzi gli ultimi 6 capoluoghi di regione presenti in capoluoghiRegione"
      ]
    },
    {
      "cell_type": "code",
      "metadata": {
        "id": "bRaTJSX-PQx5"
      },
      "source": [
        "print(capoluoghiRegione[-6:])"
      ],
      "execution_count": null,
      "outputs": []
    },
    {
      "cell_type": "markdown",
      "metadata": {
        "id": "s-m6Mwi7PtU-"
      },
      "source": [
        "4. Scrivere un programma che visualizzi i 6 capoluoghi di regione presenti nella parte centrale di capoluoghiRegione"
      ]
    },
    {
      "cell_type": "code",
      "metadata": {
        "id": "VSROOKRKPtoB"
      },
      "source": [
        "arr_len = len(capoluoghiRegione)//2\n",
        "\n",
        "print(capoluoghiRegione[arr_len-3:arr_len+3])"
      ],
      "execution_count": null,
      "outputs": []
    },
    {
      "cell_type": "markdown",
      "metadata": {
        "id": "N4YijaU7QilW"
      },
      "source": [
        "5. Scrivere un programma che visualizzi i capoluoghi di regione presenti in capoluoghiRegione nelle posizioni pari."
      ]
    },
    {
      "cell_type": "code",
      "metadata": {
        "id": "wS34firgQkt7"
      },
      "source": [
        "res = [i for i in capoluoghiRegione if capoluoghiRegione.index(i)%2==0]\n",
        "print(res)\n",
        "print(capoluoghiRegione[:20:2])"
      ],
      "execution_count": null,
      "outputs": []
    },
    {
      "cell_type": "markdown",
      "metadata": {
        "id": "bVKEPd5NTiGu"
      },
      "source": [
        "6. Scrivere un programma che visualizzi i capoluoghi di regione presenti in capoluoghiRegione nelle posizioni dispari."
      ]
    },
    {
      "cell_type": "code",
      "metadata": {
        "id": "ckb7YA92TzqH"
      },
      "source": [
        "res = [i for i in capoluoghiRegione if capoluoghiRegione.index(i)%2==1]\n",
        "print(res)"
      ],
      "execution_count": null,
      "outputs": []
    },
    {
      "cell_type": "markdown",
      "metadata": {
        "id": "ofSJ9h6gT-rV"
      },
      "source": [
        "7. Scrivere un programma che visualizzi il primo capoluogo di regione in ordine alfabetico"
      ]
    },
    {
      "cell_type": "code",
      "metadata": {
        "id": "mY2ormDkUBiW"
      },
      "source": [
        "res = sorted(capoluoghiRegione)\n",
        "print(res[0])"
      ],
      "execution_count": null,
      "outputs": []
    },
    {
      "cell_type": "markdown",
      "metadata": {
        "id": "Jsv13kXOUf6t"
      },
      "source": [
        "8. Scrivere un programma che permetta ad un utente di inserire il nome di una città è risponda True se quella città è un capoluogo di regione, False altrimenti."
      ]
    },
    {
      "cell_type": "code",
      "metadata": {
        "id": "p9BZL7nRUjDu"
      },
      "source": [
        "to_check = str(input(\"Nome della città da verificare:\")).title()\n",
        "\n",
        "print(to_check in capoluoghiRegione)"
      ],
      "execution_count": null,
      "outputs": []
    },
    {
      "cell_type": "markdown",
      "metadata": {
        "id": "lGGdBtJveooO"
      },
      "source": [
        "9. Scrivere un programma che visualizzi i capoluoghi in ordine alfabetico"
      ]
    },
    {
      "cell_type": "code",
      "metadata": {
        "id": "0SgQUgBmepBH"
      },
      "source": [
        "res = sorted(capoluoghiRegione)\n",
        "print(res)"
      ],
      "execution_count": null,
      "outputs": []
    },
    {
      "cell_type": "markdown",
      "metadata": {
        "id": "BlQYshRiVO1j"
      },
      "source": [
        "\n",
        "10. Scrivere un programma che visualizzi i capoluoghi in ordine alfabetico inverso (dalla Z alla A)"
      ]
    },
    {
      "cell_type": "code",
      "metadata": {
        "id": "P9pIOUeiVSWr"
      },
      "source": [
        "res = sorted(capoluoghiRegione, reverse=True)\n",
        "print(res)"
      ],
      "execution_count": null,
      "outputs": []
    },
    {
      "cell_type": "markdown",
      "metadata": {
        "id": "z1IPa4SqVtX7"
      },
      "source": [
        "11. Scrivere un programma che visualizzi i capoluoghi in ordine sulla base della lunghezza del nome (da quello più corto a quello più lungo)"
      ]
    },
    {
      "cell_type": "code",
      "metadata": {
        "id": "G0bhjRYBV_nu"
      },
      "source": [
        "res = sorted(capoluoghiRegione, key=len)\n",
        "print(res)"
      ],
      "execution_count": null,
      "outputs": []
    },
    {
      "cell_type": "markdown",
      "metadata": {
        "id": "6MoHSV7EWHm6"
      },
      "source": [
        "12. Scrivere un programma che copi la lista capoluoghiRegione nella lista capoluoghiRegione2 e che elimini dalla prima lista il primo e l’ultimo elemento. Al termine, visualizzare le due liste una sotto l’altra per verificare che effettivamente siano stati eliminati gli elementi della lista originale."
      ]
    },
    {
      "cell_type": "code",
      "metadata": {
        "id": "w-4MioTwWMPU"
      },
      "source": [
        "capoluoghiRegione2 = capoluoghiRegione[:]\n",
        "\n",
        "capoluoghiRegione.pop()\n",
        "capoluoghiRegione.pop(0)\n",
        "\n",
        "print(\"Originale\", capoluoghiRegione2)\n",
        "print(\"Lista senza il primo e l'ultimo elemento\", capoluoghiRegione)"
      ],
      "execution_count": null,
      "outputs": []
    },
    {
      "cell_type": "markdown",
      "metadata": {
        "id": "lqQ7Yf9NaiV9"
      },
      "source": [
        "13. Scrivere un programma che, con una sola istruzione, carichi una lista con i primi 100 numeri interi. Chiamare la lista numeriInteri. Al termine, visualizzare la lista."
      ]
    },
    {
      "cell_type": "code",
      "metadata": {
        "id": "9ptC9Dk8awOk"
      },
      "source": [
        "numeriInteri = [i for i in range(0, 100)]\n",
        "print(numeriInteri)"
      ],
      "execution_count": null,
      "outputs": []
    },
    {
      "cell_type": "markdown",
      "metadata": {
        "id": "WXDzakQ7bKCZ"
      },
      "source": [
        "14. Scrivere un programma che permetta all’utente di inserire in una lista 10 numeri interi, elimini i duplicati e visualizzi la lista senza duplicati. Chiamare la lista numeriInteri."
      ]
    },
    {
      "cell_type": "code",
      "metadata": {
        "id": "5j9gVdmPbJ06"
      },
      "source": [
        "lst = []\n",
        "for i in range(0, 10):\n",
        "  input_ = int(input(\"Inserici il \"+ str(i+1) + \"° valore:\"))\n",
        "  lst.append(input_)\n",
        "\n",
        "numeriInteri = set(lst)\n",
        "\n",
        "print(numeriInteri)"
      ],
      "execution_count": null,
      "outputs": []
    }
  ]
}
