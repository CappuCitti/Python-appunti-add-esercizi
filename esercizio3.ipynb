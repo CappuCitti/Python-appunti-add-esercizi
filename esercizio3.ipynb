{
  "nbformat": 4,
  "nbformat_minor": 0,
  "metadata": {
    "colab": {
      "name": "esercizio3.ipynb",
      "provenance": []
    },
    "kernelspec": {
      "name": "python3",
      "display_name": "Python 3"
    },
    "language_info": {
      "name": "python"
    }
  },
  "cells": [
    {
      "cell_type": "markdown",
      "metadata": {
        "id": "t7-mRBtxxaUM"
      },
      "source": [
        "1\\. Scrivere un programma che crei un dizionario contenente i nomi delle regioni e i nomi dei loro\n",
        "capoluoghi. Il nome della regione deve essere il campo chiave. Chiamare il dizionario\n",
        "capoluoghiRegione"
      ]
    },
    {
      "cell_type": "code",
      "metadata": {
        "id": "gmWNVr2cu6Rm"
      },
      "source": [
        "capoluoghiRegione = {\"Abruzzo\": \"Aquila\", \"Basilicata\": \"Potenza\", \"Calabria\": \"Catanzaro\", \"Campania\": \"Napoli\", \"Emilia-Romagna\": \"Bologna\", \"Friuli-venezia-Giulia\": \"Trieste\", \"Lazio\": \"Roma\", \"Liguaria\": \"Genova\", \"Lombardia\": \"Milano\", \"Marche\": \"Ancona\", \"Molise\": \"Campobasso\", \"Piemonte\": \"Torino\", \"Puglia\": \"Bari\", \"Sardegna\": \"Cagliari\", \"Sicilia\": \"Palermo\", \"Toscana\": \"Firenze\", \"Trentino-Alto Adige\": \"Trento\", \"Umbria\": \"Perugia\", \"valle d'Aosta\": \"Aosta\", \"Veneto\": \"Venezia\"}"
      ],
      "execution_count": 85,
      "outputs": []
    },
    {
      "cell_type": "markdown",
      "metadata": {
        "id": "CZcve4AaxgVv"
      },
      "source": [
        "2\\. Scrivere un programma che visualizzi tutti i nomi delle regioni presenti in capoluoghiRegione"
      ]
    },
    {
      "cell_type": "code",
      "metadata": {
        "colab": {
          "base_uri": "https://localhost:8080/"
        },
        "id": "sTwlbwO-xfxP",
        "outputId": "0aca6279-d50f-460d-86d0-0b42eac3bd35"
      },
      "source": [
        "for regioni in capoluoghiRegione.keys():\n",
        "  print(regioni)"
      ],
      "execution_count": null,
      "outputs": [
        {
          "output_type": "stream",
          "name": "stdout",
          "text": [
            "Abruzzo\n",
            "Basilicata\n",
            "Calabria\n",
            "Campania\n",
            "Emilia-Romagna\n",
            "Friuli-venezia-Giulia\n",
            "Lazio\n",
            "Liguaria\n",
            "Lombarida\n",
            "Marche\n",
            "Molise\n",
            "Piemonte\n",
            "Puglia\n",
            "Sardegna\n",
            "Sicilia\n",
            "Toscana\n",
            "Trentino-Alto Adige\n",
            "Umbria\n",
            "valle d'Aosta\n",
            "Veneto\n"
          ]
        }
      ]
    },
    {
      "cell_type": "markdown",
      "metadata": {
        "id": "C9YJ1iECx9xn"
      },
      "source": [
        "3\\. Scrivere un programma che visualizzi tutti i nomi dei capoluoghi di regione presenti in\n",
        "capoluoghiRegione"
      ]
    },
    {
      "cell_type": "code",
      "metadata": {
        "colab": {
          "base_uri": "https://localhost:8080/"
        },
        "id": "kORN2x0Vx-75",
        "outputId": "0c450bec-48d7-4576-b264-4d15bc0ea74a"
      },
      "source": [
        "for regioni in capoluoghiRegione.values():\n",
        "  print(regioni)"
      ],
      "execution_count": null,
      "outputs": [
        {
          "output_type": "stream",
          "name": "stdout",
          "text": [
            "Aquila\n",
            "Potenza\n",
            "Catanzaro\n",
            "Napoli\n",
            "Bologna\n",
            "Trieste\n",
            "Roma\n",
            "Genova\n",
            "Milano\n",
            "Ancona\n",
            "Campobasso\n",
            "Torino\n",
            "bari\n",
            "Cagliari\n",
            "Palermo\n",
            "Firenze\n",
            "Trento\n",
            "Perugia\n",
            "Aosta\n",
            "Venezia\n"
          ]
        }
      ]
    },
    {
      "cell_type": "markdown",
      "metadata": {
        "id": "f174cKdryCnn"
      },
      "source": [
        "4\\. Scrivere un programma che acquisisca dall’utente il nome di una regione e fornisca il nome del suo\n",
        "capoluogo."
      ]
    },
    {
      "cell_type": "code",
      "metadata": {
        "colab": {
          "base_uri": "https://localhost:8080/"
        },
        "id": "kNpRLNqLyEpg",
        "outputId": "459dee89-480c-4b2d-f7af-27ed4d3a9d0b"
      },
      "source": [
        "input_ = str(input(\"Inserire una regione: \")).title()\n",
        "\n",
        "try:\n",
        "  res = capoluoghiRegione[input_]\n",
        "  print(\"Capoluogo di regione:\", res)\n",
        "except KeyError as e:\n",
        "  print(\"Errore, regione non trovata!\\n\", e)"
      ],
      "execution_count": 87,
      "outputs": [
        {
          "output_type": "stream",
          "name": "stdout",
          "text": [
            "Inserire una regione: trentino-alto adige\n",
            "Capoluogo di regione: Trento\n"
          ]
        }
      ]
    },
    {
      "cell_type": "markdown",
      "metadata": {
        "id": "DVAg7UJg0BEn"
      },
      "source": [
        "5\\. Scrivere un programma che acquisisca dall’utente il nome di un capoluogo e fornisca il nome della\n",
        "regione a cui appartiene."
      ]
    },
    {
      "cell_type": "code",
      "metadata": {
        "colab": {
          "base_uri": "https://localhost:8080/"
        },
        "id": "Mqw6geuY0BVX",
        "outputId": "95d09d30-2274-4af9-d31c-a7662c35c3f6"
      },
      "source": [
        "capoluoghi = [capoluoghi for capoluoghi in capoluoghiRegione.values()]\n",
        "regioni = [regioni for regioni in capoluoghiRegione.keys()]\n",
        "\n",
        "try:\n",
        "  input_ = str(input(\"Inserire un capoluogo: \")).title()\n",
        "  res = regioni[capoluoghi.index(input_)]\n",
        "\n",
        "  print(\"Regione:\",res)\n",
        "except KeyError as e:\n",
        "    print(\"Errore, capoluogo non trovato!\\n\", e)"
      ],
      "execution_count": 88,
      "outputs": [
        {
          "output_type": "stream",
          "name": "stdout",
          "text": [
            "Inserire un capoluogo: Milano\n",
            "Regione: Lombardia\n"
          ]
        }
      ]
    },
    {
      "cell_type": "markdown",
      "metadata": {
        "id": "gJbwJ5vC2Us3"
      },
      "source": [
        "6\\. Scrivere un programma che visualizzi tutte le regioni con i rispettivi capoluoghi"
      ]
    },
    {
      "cell_type": "code",
      "metadata": {
        "colab": {
          "base_uri": "https://localhost:8080/"
        },
        "id": "TjWHKcrT2We3",
        "outputId": "0a06acf8-0b86-44b8-b7b3-d500341e12b9"
      },
      "source": [
        "capoluoghi = [capoluoghi for capoluoghi in capoluoghiRegione.values()]\n",
        "regioni = [regioni for regioni in capoluoghiRegione.keys()]\n",
        "\n",
        "for i in range(0, len(capoluoghiRegione)):\n",
        "  print(regioni[i] + \", \" + capoluoghi[i])"
      ],
      "execution_count": 89,
      "outputs": [
        {
          "output_type": "stream",
          "name": "stdout",
          "text": [
            "Abruzzo, Aquila\n",
            "Basilicata, Potenza\n",
            "Calabria, Catanzaro\n",
            "Campania, Napoli\n",
            "Emilia-Romagna, Bologna\n",
            "Friuli-venezia-Giulia, Trieste\n",
            "Lazio, Roma\n",
            "Liguaria, Genova\n",
            "Lombardia, Milano\n",
            "Marche, Ancona\n",
            "Molise, Campobasso\n",
            "Piemonte, Torino\n",
            "Puglia, Bari\n",
            "Sardegna, Cagliari\n",
            "Sicilia, Palermo\n",
            "Toscana, Firenze\n",
            "Trentino-Alto Adige, Trento\n",
            "Umbria, Perugia\n",
            "valle d'Aosta, Aosta\n",
            "Veneto, Venezia\n"
          ]
        }
      ]
    },
    {
      "cell_type": "markdown",
      "metadata": {
        "id": "EQWc-GOw4T9V"
      },
      "source": [
        "7\\. Scrivere un programma che visualizzi tutte le regioni con i rispettivi capoluoghi. Ordinare le regioni in ordine alfabetico"
      ]
    },
    {
      "cell_type": "code",
      "metadata": {
        "colab": {
          "base_uri": "https://localhost:8080/"
        },
        "id": "ru_Su42i4Z1A",
        "outputId": "f4bba99d-45a5-403b-e418-30d5d88d5781"
      },
      "source": [
        "res = sorted(capoluoghiRegione.items(), key=lambda val: val[0])\n",
        "#lambda è utilizzato per definire funzioni senza nome e restituice il valore dell'espressione\n",
        "#In questo caso per ogni oggetto viene preso il primo valore (quello della regione), quindi restituisce il valore della regione\n",
        "\n",
        "for name in res:\n",
        "  print(name[0] + \" | \" + name[1])"
      ],
      "execution_count": 90,
      "outputs": [
        {
          "output_type": "stream",
          "name": "stdout",
          "text": [
            "Abruzzo | Aquila\n",
            "Basilicata | Potenza\n",
            "Calabria | Catanzaro\n",
            "Campania | Napoli\n",
            "Emilia-Romagna | Bologna\n",
            "Friuli-venezia-Giulia | Trieste\n",
            "Lazio | Roma\n",
            "Liguaria | Genova\n",
            "Lombardia | Milano\n",
            "Marche | Ancona\n",
            "Molise | Campobasso\n",
            "Piemonte | Torino\n",
            "Puglia | Bari\n",
            "Sardegna | Cagliari\n",
            "Sicilia | Palermo\n",
            "Toscana | Firenze\n",
            "Trentino-Alto Adige | Trento\n",
            "Umbria | Perugia\n",
            "Veneto | Venezia\n",
            "valle d'Aosta | Aosta\n"
          ]
        }
      ]
    },
    {
      "cell_type": "markdown",
      "metadata": {
        "id": "8nKGhd6FIdoJ"
      },
      "source": [
        "8\\. Scrivere un programma che visualizzi tutte le regioni con i rispettivi capoluoghi. Ordinare i capoluoghi in ordine alfabetico"
      ]
    },
    {
      "cell_type": "code",
      "metadata": {
        "colab": {
          "base_uri": "https://localhost:8080/"
        },
        "id": "6kyv84SCIg9X",
        "outputId": "e521cd44-4d56-4409-9379-fdf57226103b"
      },
      "source": [
        "res = sorted(capoluoghiRegione.items(), key=lambda val: val[1])\n",
        "\n",
        "for name in res:\n",
        "  print(name[1] + \" | \" + name[0])"
      ],
      "execution_count": 91,
      "outputs": [
        {
          "output_type": "stream",
          "name": "stdout",
          "text": [
            "Ancona | Marche\n",
            "Aosta | valle d'Aosta\n",
            "Aquila | Abruzzo\n",
            "Bari | Puglia\n",
            "Bologna | Emilia-Romagna\n",
            "Cagliari | Sardegna\n",
            "Campobasso | Molise\n",
            "Catanzaro | Calabria\n",
            "Firenze | Toscana\n",
            "Genova | Liguaria\n",
            "Milano | Lombardia\n",
            "Napoli | Campania\n",
            "Palermo | Sicilia\n",
            "Perugia | Umbria\n",
            "Potenza | Basilicata\n",
            "Roma | Lazio\n",
            "Torino | Piemonte\n",
            "Trento | Trentino-Alto Adige\n",
            "Trieste | Friuli-venezia-Giulia\n",
            "Venezia | Veneto\n"
          ]
        }
      ]
    },
    {
      "cell_type": "markdown",
      "metadata": {
        "id": "4nQRIpy9IwQb"
      },
      "source": [
        "9\\. Scrivere un programma che carichi in una lista i nomi delle regioni e in un’altra lista i nomi dei rispettivi capoluoghi. Scrivere poi l’istruzione che permette di costruire il dizionario a partire dalle due liste."
      ]
    },
    {
      "cell_type": "code",
      "metadata": {
        "colab": {
          "base_uri": "https://localhost:8080/"
        },
        "id": "Q0FGp77LIwmz",
        "outputId": "c032b5dd-6088-4606-85af-62bd30c78945"
      },
      "source": [
        "regioni = [regioni for regioni in capoluoghiRegione.keys()]\n",
        "capoluoghi = [capoluoghi for capoluoghi in capoluoghiRegione.values()]\n",
        "\n",
        "res = dict(zip(regioni, capoluoghi))\n",
        "print(res)"
      ],
      "execution_count": 92,
      "outputs": [
        {
          "output_type": "stream",
          "name": "stdout",
          "text": [
            "{'Abruzzo': 'Aquila', 'Basilicata': 'Potenza', 'Calabria': 'Catanzaro', 'Campania': 'Napoli', 'Emilia-Romagna': 'Bologna', 'Friuli-venezia-Giulia': 'Trieste', 'Lazio': 'Roma', 'Liguaria': 'Genova', 'Lombardia': 'Milano', 'Marche': 'Ancona', 'Molise': 'Campobasso', 'Piemonte': 'Torino', 'Puglia': 'Bari', 'Sardegna': 'Cagliari', 'Sicilia': 'Palermo', 'Toscana': 'Firenze', 'Trentino-Alto Adige': 'Trento', 'Umbria': 'Perugia', \"valle d'Aosta\": 'Aosta', 'Veneto': 'Venezia'}\n"
          ]
        }
      ]
    }
  ]
}
